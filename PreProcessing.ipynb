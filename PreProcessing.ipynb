{
 "cells": [
  {
   "cell_type": "markdown",
   "id": "08ed4957",
   "metadata": {},
   "source": [
    "# Aula sobre pré processamento de dados\n",
    "Nasta aula, vamos praticar alguns conceitos sobre o pré processamento de dados para aplicações de aprendizado de máquina.\n",
    "Vamos ver o carregamento dos dados, o tratamento de dados ausentes, e por último, algumas correções de escala.\n",
    "Este exemplo é meramente ilustrativo!"
   ]
  },
  {
   "cell_type": "markdown",
   "id": "be669c27",
   "metadata": {},
   "source": [
    "## Importando bibliotecas"
   ]
  },
  {
   "cell_type": "code",
   "execution_count": null,
   "id": "05f63ec5",
   "metadata": {},
   "outputs": [],
   "source": [
    "import pandas as pd\n",
    "import numpy as np"
   ]
  },
  {
   "cell_type": "markdown",
   "id": "b32f3dba",
   "metadata": {},
   "source": [
    "## Carregando base de dados\n",
    "Usando a função de leitura de arquivos Excel da biblioteca Pandas"
   ]
  },
  {
   "cell_type": "code",
   "execution_count": null,
   "id": "547e5ae5",
   "metadata": {},
   "outputs": [],
   "source": [
    "dados = pd.read_excel('Dados_PreProcessing.xlsx', index_col=None)"
   ]
  },
  {
   "cell_type": "markdown",
   "id": "d10ccb99",
   "metadata": {},
   "source": [
    "Para ter uma boa visualização, basta digitar o nome do dataframe"
   ]
  },
  {
   "cell_type": "code",
   "execution_count": null,
   "id": "37e8f31c",
   "metadata": {},
   "outputs": [],
   "source": [
    "dados"
   ]
  },
  {
   "cell_type": "markdown",
   "id": "73abe8ef",
   "metadata": {},
   "source": [
    "## Anonimização dos dados\n",
    "Para anonimizar os dados, basta remover a coluna de identificação dos grupos."
   ]
  },
  {
   "cell_type": "code",
   "execution_count": null,
   "id": "c784f087",
   "metadata": {},
   "outputs": [],
   "source": [
    "dados_tratados = dados.drop(columns=['Grupo'])\n",
    "dados_tratados"
   ]
  },
  {
   "cell_type": "markdown",
   "id": "daa85a04",
   "metadata": {},
   "source": [
    "## Trabalhando com dados ausentes\n",
    "O tratamento dos dados ausentes deve ser feito caso a caso.\n",
    "Para a característica \"Instrumento de medida\" faz sentido inserir um valor fixo. Neste caso, vamos adicionar o valor referente ao pior caso, como uma decisão conservadora."
   ]
  },
  {
   "cell_type": "code",
   "execution_count": null,
   "id": "20c8362f",
   "metadata": {},
   "outputs": [],
   "source": [
    "dados_tratados['Instrumento de medida'] = dados_tratados['Instrumento de medida'].fillna(value='Trena')\n",
    "dados_tratados"
   ]
  },
  {
   "cell_type": "markdown",
   "id": "72ba393e",
   "metadata": {},
   "source": [
    "Para o caso da característica \"Ângulo de abertura\", o mais conservador é adotar a mediana dos valore presentes."
   ]
  },
  {
   "cell_type": "code",
   "execution_count": null,
   "id": "d7189da8",
   "metadata": {},
   "outputs": [],
   "source": [
    "dados_tratados[\"Ângulo de abertura\"] = dados_tratados[\"Ângulo de abertura\"].fillna(dados_tratados[\"Ângulo de abertura\"].median())\n",
    "dados_tratados"
   ]
  },
  {
   "cell_type": "markdown",
   "id": "9e08f1a4",
   "metadata": {},
   "source": [
    "Já para o caso do \"Comprimento do fio\", inserimos a média."
   ]
  },
  {
   "cell_type": "code",
   "execution_count": null,
   "id": "a8a3a747",
   "metadata": {},
   "outputs": [],
   "source": [
    "dados_tratados['Comprimento do fio'] = dados_tratados['Comprimento do fio'].fillna(dados_tratados['Comprimento do fio'].median())\n",
    "dados_tratados"
   ]
  },
  {
   "cell_type": "markdown",
   "id": "acc2e6f9",
   "metadata": {},
   "source": [
    "## Transformação de dados\n",
    "Um ponto importante é a cosntrução de atributos. Neste exemplo, vamos criar os atributos referentes aos \"Instrumento de medida\". Note que textos têm restrição nos algoritmos.\n",
    "Vamos utilizar a ferramento OneHotEncoder da biblioteca do Scikit-Learn."
   ]
  },
  {
   "cell_type": "code",
   "execution_count": null,
   "id": "f75d7779",
   "metadata": {},
   "outputs": [],
   "source": [
    "from sklearn.preprocessing import OneHotEncoder"
   ]
  },
  {
   "cell_type": "code",
   "execution_count": null,
   "id": "e12d471f",
   "metadata": {},
   "outputs": [],
   "source": [
    "encoder = OneHotEncoder()\n",
    "#encoder = OneHotEncoder(categories=[['Régua','Trena','Paquímetro']])\n",
    "encoder.fit_transform(dados_tratados['Instrumento de medida'].values.reshape(-1,1))"
   ]
  },
  {
   "cell_type": "markdown",
   "id": "5b43eb00",
   "metadata": {},
   "source": [
    "Aqui temos um problema. Você conseguiu identificar qual é?"
   ]
  },
  {
   "cell_type": "code",
   "execution_count": null,
   "id": "ae8642c8",
   "metadata": {},
   "outputs": [],
   "source": [
    "buffer = encoder.transform(dados_tratados['Instrumento de medida'].values.reshape(-1,1)).toarray()"
   ]
  },
  {
   "cell_type": "code",
   "execution_count": null,
   "id": "b0631a41",
   "metadata": {},
   "outputs": [],
   "source": [
    "buffer"
   ]
  },
  {
   "cell_type": "markdown",
   "id": "0d94ff41",
   "metadata": {},
   "source": [
    "Transformando de volta em um Pandas DataFrame:"
   ]
  },
  {
   "cell_type": "code",
   "execution_count": null,
   "id": "1fb69084",
   "metadata": {},
   "outputs": [],
   "source": [
    "dados_provisorio = pd.DataFrame(data=buffer, columns=['Régua','Trena','Paquímetro'])\n",
    "dados_provisorio"
   ]
  },
  {
   "cell_type": "markdown",
   "id": "938b61b8",
   "metadata": {},
   "source": [
    "Juntando o resultado no DataFrame original:"
   ]
  },
  {
   "cell_type": "code",
   "execution_count": null,
   "id": "c81ffc4d",
   "metadata": {},
   "outputs": [],
   "source": [
    "dados_tratados = dados_tratados.join(dados_provisorio)\n",
    "dados_tratados"
   ]
  },
  {
   "cell_type": "markdown",
   "id": "ada7b63a",
   "metadata": {},
   "source": [
    "Removendo dados redundantes:"
   ]
  },
  {
   "cell_type": "code",
   "execution_count": null,
   "id": "7085d626",
   "metadata": {},
   "outputs": [],
   "source": [
    "dados_tratados = dados_tratados.drop(columns=['Instrumento de medida'])\n",
    "dados_tratados"
   ]
  },
  {
   "cell_type": "markdown",
   "id": "e8d946b0",
   "metadata": {},
   "source": [
    "Agora vamos utilizar uma transformação de escala. Vamos utilizar a ferramenta MinMaxScaler da biblioteca do Scikit-Learn."
   ]
  },
  {
   "cell_type": "code",
   "execution_count": null,
   "id": "78701ec6",
   "metadata": {},
   "outputs": [],
   "source": [
    "from sklearn.preprocessing import MinMaxScaler\n",
    "scaler = MinMaxScaler()\n",
    "dados_tratados['Comprimento do fio'] = scaler.fit_transform(dados_tratados[['Comprimento do fio']])\n",
    "dados_tratados"
   ]
  },
  {
   "cell_type": "markdown",
   "id": "ee7ca2b4",
   "metadata": {},
   "source": [
    "Você consegue repetir o procedimento para a característica \"Período de oscilação\" e utilizando a ferramenta StandardScaler?"
   ]
  },
  {
   "cell_type": "code",
   "execution_count": null,
   "id": "57299dba",
   "metadata": {},
   "outputs": [],
   "source": []
  }
 ],
 "metadata": {
  "kernelspec": {
   "display_name": "Python 3 (ipykernel)",
   "language": "python",
   "name": "python3"
  },
  "language_info": {
   "codemirror_mode": {
    "name": "ipython",
    "version": 3
   },
   "file_extension": ".py",
   "mimetype": "text/x-python",
   "name": "python",
   "nbconvert_exporter": "python",
   "pygments_lexer": "ipython3",
   "version": "3.10.12"
  }
 },
 "nbformat": 4,
 "nbformat_minor": 5
}
