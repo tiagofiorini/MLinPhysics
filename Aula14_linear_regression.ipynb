{
  "cells": [
    {
      "cell_type": "markdown",
      "metadata": {
        "id": "_tyC9rOsn1xo"
      },
      "source": [
        "Na aula de hoje vamos trabalhar com um conjunto de dados sobre a resistência compressiva do concreto, que varia em função dos seus ingredientes e da sua idade. Mais informações sobre o conjunto de dados podem ser obtidas [aqui](https://archive.ics.uci.edu/dataset/165/concrete+compressive+strength).\n",
        "\n",
        "Número de amostras: 1030\n",
        "\n",
        "Número de atributos: 9\n",
        "\n",
        "cement (kg/m3)               \n",
        "furnace_slag (kg/m3)         \n",
        "fly-ash (kg/m3)               \n",
        "water (kg/m3)                 \n",
        "superplasticizer (kg/m3)      \n",
        "coarse_aggregate (kg/m3)      \n",
        "fine_aggregate (kg/m3)        \n",
        "age (days)                  \n",
        "compressive_strength (MPa) (variável alvo)"
      ]
    },
    {
      "cell_type": "code",
      "execution_count": null,
      "metadata": {
        "colab": {
          "base_uri": "https://localhost:8080/"
        },
        "id": "ISZ4_2oAS923",
        "outputId": "e0d91429-3300-4fe3-d1af-8e24edfffdc1"
      },
      "outputs": [
        {
          "output_type": "stream",
          "name": "stdout",
          "text": [
            "Mounted at /content/drive\n"
          ]
        }
      ],
      "source": [
        "# Clonando pasta do github\n",
        "if 'google.colab' in str(get_ipython()):\n",
        "    !git clone https://github.com/tiagofiorini/MLinPhysics.git\n",
        "    import os as os\n",
        "    os.chdir('./MLinPhysics')"
      ]
    },
    {
      "cell_type": "code",
      "execution_count": null,
      "metadata": {
        "id": "4ySXZAfrWIiI"
      },
      "outputs": [],
      "source": [
        "import numpy as np\n",
        "import pandas as pd\n",
        "import matplotlib.pyplot as plt\n",
        "import seaborn as sns"
      ]
    },
    {
      "cell_type": "markdown",
      "metadata": {
        "id": "Gxx2_W_qjKbU"
      },
      "source": [
        "# Análise Exploratória"
      ]
    },
    {
      "cell_type": "markdown",
      "metadata": {
        "id": "bExu5bfrbzGO"
      },
      "source": [
        "Todas as variáveis preditora (features) são numéricas. Não há valores faltantes.\n",
        "\n",
        "Variável alvo: compressive_strength (numérica)"
      ]
    },
    {
      "cell_type": "code",
      "execution_count": null,
      "metadata": {
        "id": "8gEqzVuejdMt"
      },
      "outputs": [],
      "source": [
        "# Ler arquivo\n",
        "caminho = '/content/drive/MyDrive/Colab Notebooks/Lu/ML_ifusp/testes/'\n",
        "df = pd.read_csv(caminho +'Concrete_Data.csv', header = 0, decimal = '.', sep = \",\")\n",
        "df.info()"
      ]
    },
    {
      "cell_type": "markdown",
      "metadata": {
        "id": "xENkiEpEPnsY"
      },
      "source": [
        "Há dados faltantes?"
      ]
    },
    {
      "cell_type": "code",
      "execution_count": null,
      "metadata": {
        "id": "6cT5KynIkfAV"
      },
      "outputs": [],
      "source": [
        "# Há dados faltantes?\n",
        "# Counting NaN values in all columns\n",
        "print(df.isna().sum())"
      ]
    },
    {
      "cell_type": "markdown",
      "metadata": {
        "id": "RlFEazXUnKpC"
      },
      "source": [
        "**Variáveis numéricas**\n",
        "\n",
        "Observe que várias features não possuem distribuição normal, com grande presença de valores nulos (variáveis esparsas). Além disso, \"age\" é uma variável discreta.\n",
        "\n",
        "Observe também que só a variável \"cement\" é linearmente correlacionada com a variável alvo.\n",
        "\n",
        "Os preditores não são fortemente correlacionados, de modo que não há multicolinearidade relevante."
      ]
    },
    {
      "cell_type": "code",
      "execution_count": null,
      "metadata": {
        "id": "zCnmw540EUtD"
      },
      "outputs": [],
      "source": [
        "# Distribuição das variáveis preditoras e alvo\n",
        "# Boxplots para todas as variáveis\n",
        "names = df.columns\n",
        "fig, axes = plt.subplots(3,3)\n",
        "for name, ax in zip(names, axes.flatten()):\n",
        "    sns.boxplot(y=name, data=df, notch=True, ax=ax)\n",
        "plt.tight_layout()"
      ]
    },
    {
      "cell_type": "code",
      "execution_count": null,
      "metadata": {
        "id": "1pjPI8RUtrPh"
      },
      "outputs": [],
      "source": [
        "# Avaliando correlações\n",
        "sns.pairplot(df)"
      ]
    },
    {
      "cell_type": "code",
      "execution_count": null,
      "metadata": {
        "id": "c6jFHoSrt-7J"
      },
      "outputs": [],
      "source": [
        "sns.heatmap(df.corr(), annot=True, cmap='BrBG')"
      ]
    },
    {
      "cell_type": "markdown",
      "metadata": {
        "id": "qIAmvUR6S_KP"
      },
      "source": [
        "# Preparação dos dados"
      ]
    },
    {
      "cell_type": "markdown",
      "metadata": {
        "id": "_1EhiC723RpC"
      },
      "source": [
        "*Exercício: avalie mudanças no desempenho dos modelos para diferentes procedimentos de preparação de dados.*\n",
        "*   *Utilizar outra estratégia de padronização ou normalização (MinMaxScaler, MaxAbsScaler)*\n",
        "*   *Utilizar validação cruzada k-fold*\n",
        "\n",
        "\n",
        "\n",
        "\n",
        "\n",
        "\n",
        "\n",
        "\n"
      ]
    },
    {
      "cell_type": "code",
      "execution_count": null,
      "metadata": {
        "id": "qzPo8CYU4M6g"
      },
      "outputs": [],
      "source": [
        "# Padronizando as variáveis\n",
        "from sklearn.preprocessing import StandardScaler, MinMaxScaler, MaxAbsScaler\n",
        "scaler = MinMaxScaler()\n",
        "dfs = scaler.fit_transform(df)\n",
        "dfs = pd.DataFrame(dfs)\n",
        "dfs.columns=df.columns.values"
      ]
    },
    {
      "cell_type": "code",
      "execution_count": null,
      "metadata": {
        "id": "g28AWadu4f0S"
      },
      "outputs": [],
      "source": [
        "# Histogramas as variáveis escalonadas\n",
        "names = dfs.columns\n",
        "fig, axes = plt.subplots(3,3)\n",
        "for name, ax in zip(names, axes.flatten()):\n",
        "    sns.histplot(x=name, data=dfs, ax=ax)\n",
        "plt.tight_layout()"
      ]
    },
    {
      "cell_type": "code",
      "execution_count": null,
      "metadata": {
        "id": "NoXdCJNpoXAu"
      },
      "outputs": [],
      "source": [
        "# Separação de variáveis preditoras e alvo\n",
        "X = dfs.drop(['compressive_strength'], axis=1) # features\n",
        "y = dfs.compressive_strength # target"
      ]
    },
    {
      "cell_type": "code",
      "execution_count": null,
      "metadata": {
        "id": "TByk8Ah0qSih"
      },
      "outputs": [],
      "source": [
        "# Particionamento em treino e teste\n",
        "from sklearn.model_selection import train_test_split\n",
        "X_train, X_test, y_train, y_test = train_test_split(X, y, test_size=0.2, random_state=18)"
      ]
    },
    {
      "cell_type": "markdown",
      "source": [
        "# Regressão linear simples"
      ],
      "metadata": {
        "id": "2sYABfYR8yh9"
      }
    },
    {
      "cell_type": "markdown",
      "source": [
        "Só a variável \"cement\" possui alguma correlação linear com a variável alvo. Qual é a fração da variância da resistência compressiva que é explicada pela variável \"cement\"?"
      ],
      "metadata": {
        "id": "GbFrTr6r89SV"
      }
    },
    {
      "cell_type": "code",
      "source": [
        "# Regressão linear simples - sklearn\n",
        "from sklearn import linear_model\n",
        "\n",
        "X_train_cement = np.array(X_train['cement']).reshape(-1, 1)\n",
        "regr = linear_model.LinearRegression() # Create regressor\n",
        "regr.fit(X_train_cement, y_train) # Train regressor\n",
        "\n",
        "print('Intercepto:', regr.intercept_)\n",
        "print('Coeficientes:', regr.coef_)\n",
        "print('R^2 = ', regr.score(X_train_cement, y_train)) # Coefficient of determination R^2"
      ],
      "metadata": {
        "id": "gUPeDSqm8xi9"
      },
      "execution_count": null,
      "outputs": []
    },
    {
      "cell_type": "markdown",
      "source": [
        "Avaliando os resíduos"
      ],
      "metadata": {
        "id": "A5TU9_XpBP_5"
      }
    },
    {
      "cell_type": "code",
      "source": [
        "# Gráfico dos resíduos para o conjunto de treinamento\n",
        "from sklearn.metrics import PredictionErrorDisplay\n",
        "y_pred = regr.predict(X_train_cement)\n",
        "display = PredictionErrorDisplay(y_true=y_train, y_pred=y_pred)\n",
        "display.plot()\n",
        "plt.show()"
      ],
      "metadata": {
        "id": "DxoMGqM__7uO"
      },
      "execution_count": null,
      "outputs": []
    },
    {
      "cell_type": "code",
      "source": [
        "# Gráfico quantil-quantil (QQ plot)\n",
        "import statsmodels.api as sm\n",
        "resid = y_pred-y_train\n",
        "sm.qqplot(resid.to_numpy(), line='45')"
      ],
      "metadata": {
        "id": "vzHOwf-zBNbx"
      },
      "execution_count": null,
      "outputs": []
    },
    {
      "cell_type": "markdown",
      "source": [
        "Métricas de desempenho"
      ],
      "metadata": {
        "id": "a1a0pZSoDx5f"
      }
    },
    {
      "cell_type": "code",
      "source": [
        "from sklearn.metrics import r2_score, mean_squared_error, mean_absolute_error\n",
        "print('R^2 = ', r2_score(y_train, y_pred))\n",
        "print('MSE = ', mean_squared_error(y_train, y_pred))\n",
        "print('MAE = ', mean_absolute_error(y_train, y_pred))"
      ],
      "metadata": {
        "id": "_zUMGt3HDzyi"
      },
      "execution_count": null,
      "outputs": []
    },
    {
      "cell_type": "markdown",
      "metadata": {
        "id": "sgQohDHpSGbR"
      },
      "source": [
        "# Regressão linear múltipla"
      ]
    },
    {
      "cell_type": "markdown",
      "metadata": {
        "id": "FGgmfwyaucxv"
      },
      "source": [
        "*Exercício: Criar um modelo linear com todos os preditores*"
      ]
    },
    {
      "cell_type": "markdown",
      "metadata": {
        "id": "MmbgeW-4GwNn"
      },
      "source": [
        "**Modelo com todos os preditores**"
      ]
    },
    {
      "cell_type": "code",
      "source": [],
      "metadata": {
        "id": "ubvNeKQnT8-g"
      },
      "execution_count": null,
      "outputs": []
    },
    {
      "cell_type": "markdown",
      "source": [
        "A biblioteca stasmodels fornece um relatório com diversas métricas de qualidade do ajuste, bem como os coeficientes ajustados, sua margem de erro e significância estatística.\n",
        "\n",
        "Observe que o intercepto e as variáveis coarse_aggregate e fine_aggregate não foram estatisticamente significativas. Ou seja, sua contribuição para explicar a variância da resistência compressiva não é significativa."
      ],
      "metadata": {
        "id": "c2j90bRIFJ3p"
      }
    },
    {
      "cell_type": "code",
      "execution_count": null,
      "metadata": {
        "id": "60L_EzgE_7Hj"
      },
      "outputs": [],
      "source": [
        "# Modelo com todos os preditores - statsmodels\n",
        "import statsmodels.api as sm\n",
        "X_trainsm = sm.add_constant(X_train) # adicionar uma coluna constante para o statsmodels ajustar um itercepto\n",
        "mod = sm.OLS(y_train, X_trainsm) # ajustar o modelo\n",
        "regsm = mod.fit()\n",
        "print(regsm.summary())"
      ]
    },
    {
      "cell_type": "code",
      "source": [
        "Exercício: Criar um modelo linear só com os preditores estatisticamente significativos"
      ],
      "metadata": {
        "id": "-SXLmG9hUHs3"
      },
      "execution_count": null,
      "outputs": []
    },
    {
      "cell_type": "markdown",
      "metadata": {
        "id": "qixQbBb_G0HP"
      },
      "source": [
        "**Modelo com 6 preditores e sem intercepto**"
      ]
    },
    {
      "cell_type": "code",
      "source": [],
      "metadata": {
        "id": "VKtYuM59UCzY"
      },
      "execution_count": null,
      "outputs": []
    },
    {
      "cell_type": "code",
      "source": [
        "# Gráfico dos coeficientes ajustados\n",
        "#fig = sns.barplot (x=np.arange(1, len(coef)+1), y=coef)\n",
        "3plt.xlabel(\"Preditores\")\n",
        "#plt.ylabel(\"Coeficientes ajustados\")"
      ],
      "metadata": {
        "id": "x2eRR6FvGjlP"
      },
      "execution_count": null,
      "outputs": []
    },
    {
      "cell_type": "markdown",
      "source": [
        "Avaliando os resíduos"
      ],
      "metadata": {
        "id": "cNzjGKI0F6za"
      }
    },
    {
      "cell_type": "code",
      "source": [
        "# Gráfico dos resíduos para o conjunto de treinamento\n",
        "from sklearn.metrics import PredictionErrorDisplay\n",
        "#display = PredictionErrorDisplay(y_true=y_train, y_pred=y_pred)\n",
        "#display.plot()\n",
        "#plt.title('Resíduos - Modelo com 6 preditores')\n",
        "#plt.show()"
      ],
      "metadata": {
        "id": "YBdMSbn7F6za"
      },
      "execution_count": null,
      "outputs": []
    },
    {
      "cell_type": "markdown",
      "source": [
        "Comparando as métricas de desempenho nos conjuntos de treino e teste, podemos avaliar se houve overfitting ou não. Neste caso, as métricas foram melhores no conjunto de teste, o que indica que o modelo tem uma boa capacidade de generalização, sem fazer overfitting."
      ],
      "metadata": {
        "id": "EB8gZdoP_Sp2"
      }
    },
    {
      "cell_type": "code",
      "source": [
        "# Métricas de desempenho - conjunto de treino\n",
        "from sklearn.metrics import r2_score, mean_squared_error, mean_absolute_error\n",
        "#print('Métricas de desempenho (conjunto de treino) - modelo com 6 preditores')\n",
        "#print('R^2 = ', r2_score(y_train, y_pred_train))\n",
        "#print('MSE = ', mean_squared_error(y_train, y_pred_train))\n",
        "#print('MAE = ', mean_absolute_error(y_train, y_pred_train))"
      ],
      "metadata": {
        "id": "O30o6xqf9GxA"
      },
      "execution_count": null,
      "outputs": []
    },
    {
      "cell_type": "code",
      "source": [
        "# Métricas de desempenho - conjunto de teste\n",
        "from sklearn.metrics import r2_score, mean_squared_error, mean_absolute_error\n",
        "#print('Métricas de desempenho (conjunto de teste) - modelo com 6 preditores')\n",
        "#print('R^2 = ', r2_score(y_test, y_pred_test))\n",
        "#print('MSE = ', mean_squared_error(y_test, y_pred_test))\n",
        "#print('MAE = ', mean_absolute_error(y_test, y_pred_test))"
      ],
      "metadata": {
        "id": "I9rkbmyi9ndo"
      },
      "execution_count": null,
      "outputs": []
    },
    {
      "cell_type": "markdown",
      "metadata": {
        "id": "nBSNQoL_9YMI"
      },
      "source": [
        "# Regressão Lasso (L1)"
      ]
    },
    {
      "cell_type": "markdown",
      "metadata": {
        "id": "Vw-qlr8T9mL5"
      },
      "source": [
        "Vamos aplicar uma penalidade do tipo L1 com lambda = 0.001. Vemos que o regressor acaba excluindo as mesmas variáveis que não tinham sido significativas (coarse e fine agregate).\n",
        "\n",
        "\n",
        "\n",
        "\n"
      ]
    },
    {
      "cell_type": "markdown",
      "source": [
        "*Exercício: Aumentar o valor de lambda (alpha) e avaliar os impactos nos coeficientes e no valor de R^2. Também é possível usar a busca em grade (Grid Search) para obter o valor de lambda que maximiza o R^2 ou alguma outra métrica de interesse.*"
      ],
      "metadata": {
        "id": "xPuZHTljEM28"
      }
    },
    {
      "cell_type": "code",
      "execution_count": null,
      "metadata": {
        "id": "JW2MkBHnMEyV"
      },
      "outputs": [],
      "source": [
        "from sklearn.linear_model import Lasso\n",
        "lassoReg = Lasso(alpha=0.001)\n",
        "lassoReg.fit(X_train,y_train)\n",
        "y_pred_train = lassoReg.predict(X_train) # predição para o conjunto de treino\n",
        "y_pred_test = lassoReg.predict(X_test) # predição para o conjunto de teste\n",
        "\n",
        "print('Intercepto:', lassoReg.intercept_)\n",
        "print(X_train.columns.values)\n",
        "print('Coeficientes:', lassoReg.coef_)\n",
        "print('R^2 = ', lassoReg.score(X_train,y_train))"
      ]
    },
    {
      "cell_type": "code",
      "source": [
        "# Gráfico dos coeficientes ajustados\n",
        "coef = lassoReg.coef_\n",
        "fig = sns.barplot (x=np.arange(1, len(coef)+1), y=coef)\n",
        "plt.xlabel(\"Preditores\")\n",
        "plt.ylabel(\"Coeficientes ajustados\")\n",
        "plt.title(\"Coeficientes - Regressão Lasso\")"
      ],
      "metadata": {
        "id": "LDvDvScRCXWH"
      },
      "execution_count": null,
      "outputs": []
    },
    {
      "cell_type": "code",
      "source": [
        "print('R^2 = ', r2_score(y_train, y_pred_train))\n",
        "print('MSE = ', mean_squared_error(y_train, y_pred_train))\n",
        "print('MAE = ', mean_absolute_error(y_train, y_pred_train))"
      ],
      "metadata": {
        "id": "5hau3gc7GTXI"
      },
      "execution_count": null,
      "outputs": []
    },
    {
      "cell_type": "markdown",
      "source": [
        "# Regressão Ridge (L2)"
      ],
      "metadata": {
        "id": "5SYAA49bEnpe"
      }
    },
    {
      "cell_type": "code",
      "source": [
        "from sklearn.linear_model import Ridge\n",
        "ridgeReg = Ridge(alpha=10)\n",
        "ridgeReg.fit(X_train,y_train)\n",
        "\n",
        "y_pred_train = ridgeReg.predict(X_train) # predição para o conjunto de treino\n",
        "y_pred_test = ridgeReg.predict(X_test) # predição para o conjunto de teste\n",
        "\n",
        "print('Intercepto:', ridgeReg.intercept_)\n",
        "print(X_train.columns.values)\n",
        "print('Coeficientes:', ridgeReg.coef_)\n",
        "print('R^2 = ', ridgeReg.score(X_train,y_train))"
      ],
      "metadata": {
        "id": "_Qc7ad3aA0Gt"
      },
      "execution_count": null,
      "outputs": []
    },
    {
      "cell_type": "code",
      "source": [
        "# Gráfico dos coeficientes ajustados\n",
        "coef = ridgeReg.coef_\n",
        "fig = sns.barplot (x=np.arange(1, len(coef)+1), y=coef)\n",
        "plt.xlabel(\"Preditores\")\n",
        "plt.ylabel(\"Coeficientes ajustados\")\n",
        "plt.title(\"Coeficientes - Regressão Ridge\")"
      ],
      "metadata": {
        "id": "-OCO1MrGE3Gq"
      },
      "execution_count": null,
      "outputs": []
    },
    {
      "cell_type": "code",
      "source": [
        "print('R^2 = ', r2_score(y_train, y_pred_train))\n",
        "print('MSE = ', mean_squared_error(y_train, y_pred_train))\n",
        "print('MAE = ', mean_absolute_error(y_train, y_pred_train))"
      ],
      "metadata": {
        "id": "tEB5aPCeHR8u"
      },
      "execution_count": null,
      "outputs": []
    }
  ],
  "metadata": {
    "colab": {
      "provenance": [],
      "toc_visible": true
    },
    "kernelspec": {
      "display_name": "Python 3",
      "name": "python3"
    },
    "language_info": {
      "name": "python"
    }
  },
  "nbformat": 4,
  "nbformat_minor": 0
}