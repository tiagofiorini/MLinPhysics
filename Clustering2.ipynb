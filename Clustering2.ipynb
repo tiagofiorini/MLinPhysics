{
 "cells": [
  {
   "cell_type": "markdown",
   "id": "c17ceb20",
   "metadata": {},
   "source": [
    "# Aula de algoritmos de segmentação de dados\n",
    "\n",
    "Nesta aula vamos colocar às mãos no código para ter uma visão prática do uso de algoritmos de aprendizado de máquina para extrair um entendimento mais profundo de uma base de dados.\n",
    "\n",
    "Neste exemplo, vamos usar a base de dados que sumariza 82 características de 21.263 materiais supercondutores diferentes. Esses dados foram compilados de artigos científicos pelo Superconducting Material Database maintained by Japan’s National Institute for Materials Science (NIMS), e são disponíveis Materials Data Repository (MDR).\n",
    "\n",
    "A tabela que utilizaremos é uma versão compilada e disponível em: https://www.kaggle.com/datasets/munumbutt/superconductor-dataset?select=train.csv"
   ]
  },
  {
   "cell_type": "markdown",
   "id": "8fae3c93",
   "metadata": {},
   "source": [
    "## Importando bibliotecas e dados"
   ]
  },
  {
   "cell_type": "code",
   "execution_count": null,
   "id": "20d2efdf",
   "metadata": {},
   "outputs": [],
   "source": [
    "import pandas as pd\n",
    "import numpy as np\n",
    "import matplotlib.pyplot as plt\n",
    "from matplotlib.colors import LogNorm"
   ]
  },
  {
   "cell_type": "markdown",
   "id": "a578ca6b",
   "metadata": {},
   "source": [
    "## Preparando o ambiente"
   ]
  },
  {
   "cell_type": "code",
   "execution_count": null,
   "id": "3dd568a0",
   "metadata": {},
   "outputs": [],
   "source": [
    "## Preparando o ambiente\n",
    "if 'google.colab' in str(get_ipython()):\n",
    "    !git clone https://github.com/tiagofiorini/MLinPhysics.git\n",
    "    import os as os\n",
    "    os.chdir('./MLinPhysics')"
   ]
  },
  {
   "cell_type": "code",
   "execution_count": null,
   "id": "354c6be6",
   "metadata": {},
   "outputs": [],
   "source": [
    "dados = pd.read_csv('Superconductivity.csv')\n",
    "dados"
   ]
  },
  {
   "cell_type": "markdown",
   "id": "e35d7bfa",
   "metadata": {},
   "source": [
    "O nome atribuído às 82 características dos materiais são:"
   ]
  },
  {
   "cell_type": "code",
   "execution_count": null,
   "id": "d386eed1",
   "metadata": {},
   "outputs": [],
   "source": [
    "dados.columns"
   ]
  },
  {
   "cell_type": "markdown",
   "id": "c90fb426",
   "metadata": {},
   "source": [
    "**Tarefa 1:** Explore a estatística dos dados por meio de histogramas.\n",
    "\n",
    "*Nota:* Copie o nome da coluna e substitua no código abaixo!"
   ]
  },
  {
   "cell_type": "code",
   "execution_count": null,
   "id": "c68b937b",
   "metadata": {},
   "outputs": [],
   "source": [
    "plt.hist(dados['mean_ThermalConductivity'], bins=20);"
   ]
  },
  {
   "cell_type": "markdown",
   "id": "17b2a895",
   "metadata": {},
   "source": [
    "## Verificando a existência de agrupamentos!\n",
    "\n",
    "Vamos verificar possíveis agrupamentos entre duas variáveis: a afinidade eletrônica e a temperatura crítica de supercondutividade.\n",
    "\n",
    "Faremos isso por meio de um histograma bidimensional!"
   ]
  },
  {
   "cell_type": "code",
   "execution_count": null,
   "id": "7748d8ec",
   "metadata": {},
   "outputs": [],
   "source": [
    "plt.hist2d(dados['mean_ElectronAffinity'], dados['critical_temp'],bins=50);\n",
    "plt.xlabel('Afinidade eletrônica')\n",
    "plt.ylabel('Temperatura crítica');"
   ]
  },
  {
   "cell_type": "markdown",
   "id": "75603075",
   "metadata": {},
   "source": [
    "## Segmentação dos dados\n",
    "\n",
    "Vamos utilizar algoritmos de clusterização para segmentar esses dados.\n",
    "\n",
    "Carregando a biblioteca correspondente:"
   ]
  },
  {
   "cell_type": "code",
   "execution_count": null,
   "id": "12bc0706",
   "metadata": {},
   "outputs": [],
   "source": [
    "from sklearn.cluster import KMeans "
   ]
  },
  {
   "cell_type": "markdown",
   "id": "2021794a",
   "metadata": {},
   "source": [
    "Verifique a seguir a variável *n_clusters* que define o número de agrupamentos a se calcular.\n",
    "\n",
    "**Tarefa:** Variar o número de agrupamentos e verificar a influência na resposta do algoritmo.\n",
    "\n",
    "*Nota:* Para manter a funcionalidadde das células a seguir, prossiga apenas de *n_clusters* for maior que 2 e menor que 4! "
   ]
  },
  {
   "cell_type": "code",
   "execution_count": null,
   "id": "27fec65b",
   "metadata": {},
   "outputs": [],
   "source": [
    "n_clusters= 2\n",
    "\n",
    "X = np.array([dados['mean_ElectronAffinity'], dados['critical_temp']]).T\n",
    "kmeans = KMeans(n_clusters=n_clusters).fit(X)\n",
    "categorias = kmeans.labels_\n",
    "\n",
    "plt.scatter(dados['mean_ElectronAffinity'], dados['critical_temp'], c=categorias)\n",
    "plt.xlabel('Afinidade eletrônica')\n",
    "plt.ylabel('Temperatura crítica');"
   ]
  },
  {
   "cell_type": "markdown",
   "id": "79cd689b",
   "metadata": {},
   "source": [
    "*Nota:* Verifique como o Kmeans nomeia as categorias:"
   ]
  },
  {
   "cell_type": "code",
   "execution_count": null,
   "id": "531f8e03",
   "metadata": {},
   "outputs": [],
   "source": [
    "np.unique(categorias)"
   ]
  },
  {
   "cell_type": "markdown",
   "id": "7da5c4ae",
   "metadata": {},
   "source": [
    "Para uma melhor visualização, vamos utilizar um histograma bidimensional."
   ]
  },
  {
   "cell_type": "code",
   "execution_count": null,
   "id": "1717d938",
   "metadata": {},
   "outputs": [],
   "source": [
    "import matplotlib.colors as mcolors\n",
    "\n",
    "colors = [(1,0,0,c) for c in np.linspace(0,1,100)]\n",
    "cmapred  = mcolors.LinearSegmentedColormap.from_list('mymap', colors, N=5)\n",
    "colors = [(0,1,0,c) for c in np.linspace(0,1,100)]\n",
    "cmapgreen  = mcolors.LinearSegmentedColormap.from_list('mymap', colors, N=5)\n",
    "colors = [(0,0,1,c) for c in np.linspace(0,1,100)]\n",
    "cmapblue =  mcolors.LinearSegmentedColormap.from_list('mymap', colors, N=5)\n",
    "colors = [(1,0,1,c) for c in np.linspace(0,1,100)]\n",
    "cmappurple =  mcolors.LinearSegmentedColormap.from_list('mymap', colors, N=5)\n",
    "colors = [(0,1,1,c) for c in np.linspace(0,1,100)]\n",
    "cmapcian =  mcolors.LinearSegmentedColormap.from_list('mymap', colors, N=5)\n",
    "\n",
    "colormaps = [cmapred, cmapgreen, cmapblue, cmappurple, cmapcian]\n",
    "for i in range(categorias.max()+1):\n",
    "    mask = ( categorias == i )\n",
    "    x = X[mask,:]\n",
    "    plt.hist2d(x[:,0],x[:,1],bins=[np.linspace(0,300,50),np.linspace(0,200,50)],cmap=colormaps[i])\n",
    "plt.xlabel('Afinidade eletrônica')\n",
    "plt.ylabel('Temperatura crítica');"
   ]
  },
  {
   "cell_type": "markdown",
   "id": "7e14c3ef",
   "metadata": {},
   "source": [
    "## Vamos testar a proposta de segmentação?\n",
    "\n",
    "Para seguir, execute novamente a clusterização em um número de agrupamentos a se testar!\n",
    "\n",
    "Carregando o teste de silhueta:"
   ]
  },
  {
   "cell_type": "code",
   "execution_count": null,
   "id": "32c2726e",
   "metadata": {},
   "outputs": [],
   "source": [
    "from sklearn.metrics import silhouette_samples, silhouette_score\n",
    "\n",
    "silhouette_avg = silhouette_score(X, categorias)"
   ]
  },
  {
   "cell_type": "markdown",
   "id": "868b235d",
   "metadata": {},
   "source": [
    "Veja o fator de silhueta médio para todos os pontos:\n",
    "\n",
    "*Nota 1:* Um fator de silhueta mais próximo de 1 indica uma boa segmentação do ponto de vista estatístico!\n",
    "\n",
    "*Nota 2:* conforme observado nos histogramas, não podemos esperar uma segmentação perfeita!"
   ]
  },
  {
   "cell_type": "code",
   "execution_count": null,
   "id": "d067f087",
   "metadata": {},
   "outputs": [],
   "source": [
    "silhouette_avg"
   ]
  },
  {
   "cell_type": "markdown",
   "id": "fa20559d",
   "metadata": {},
   "source": [
    "Vamos analisar ponto a ponto a análise da silhueta!"
   ]
  },
  {
   "cell_type": "code",
   "execution_count": null,
   "id": "8c389d1a",
   "metadata": {},
   "outputs": [],
   "source": [
    "import matplotlib.cm as cm\n",
    "\n",
    "# Compute the silhouette scores for each sample\n",
    "sample_silhouette_values = silhouette_samples(X, categorias)\n",
    "y_lower = 10\n",
    "\n",
    "for i in range(n_clusters):\n",
    "        # Aggregate the silhouette scores for samples belonging to\n",
    "        # cluster i, and sort them\n",
    "        ith_cluster_silhouette_values = sample_silhouette_values[categorias == i]\n",
    "\n",
    "        ith_cluster_silhouette_values.sort()\n",
    "\n",
    "        size_cluster_i = ith_cluster_silhouette_values.shape[0]\n",
    "        y_upper = y_lower + size_cluster_i\n",
    "\n",
    "        color = cm.nipy_spectral(float(i) / n_clusters)\n",
    "        plt.fill_betweenx(\n",
    "            np.arange(y_lower, y_upper),\n",
    "            0,\n",
    "            ith_cluster_silhouette_values,\n",
    "            facecolor=color,\n",
    "            edgecolor=color,\n",
    "            alpha=0.7,\n",
    "        )\n",
    "\n",
    "        # Label the silhouette plots with their cluster numbers at the middle\n",
    "        plt.text(-0.05, y_lower + 0.5 * size_cluster_i, str(i))\n",
    "\n",
    "        # Compute the new y_lower for next plot\n",
    "        y_lower = y_upper + 10  # 10 for the 0 samples\n",
    "    \n",
    "plt.axvline(x=silhouette_avg, color=\"red\", linestyle=\"--\");"
   ]
  },
  {
   "cell_type": "markdown",
   "id": "090b402f",
   "metadata": {},
   "source": [
    "*Nota :* Qual a porcentagem de dados mal classificados nos diferentes agrupamentos?"
   ]
  },
  {
   "cell_type": "code",
   "execution_count": null,
   "id": "09047f04",
   "metadata": {},
   "outputs": [],
   "source": [
    "mask = ( sample_silhouette_values < 0 )\n",
    "p = (100 * mask.sum() / len(mask)).round(2)\n",
    "print('Apenas %.2f%% dos pontos foram mal classificados nos agrupamentos de dados.'%(p))"
   ]
  },
  {
   "cell_type": "markdown",
   "id": "0124bf1d",
   "metadata": {},
   "source": [
    "##Podemos interpretar os resultados?\n",
    "\n",
    "Podemos usar os centros dos agrupamentos para tentar extrair alguma conclusão sobre a análise (*insight*)."
   ]
  },
  {
   "cell_type": "code",
   "execution_count": null,
   "id": "06a8f5d1",
   "metadata": {},
   "outputs": [],
   "source": [
    "centros = kmeans.cluster_centers_\n",
    "dados_provisorio = pd.DataFrame(data=centros, columns=['mean_ElectronAffinity','critical_temp'])\n",
    "dados_provisorio"
   ]
  },
  {
   "cell_type": "code",
   "execution_count": null,
   "id": "7a604051",
   "metadata": {},
   "outputs": [],
   "source": [
    "ordem = centros[:,0].argsort()\n",
    "plt.plot(centros[ordem,0],centros[ordem,1])\n",
    "plt.xlabel('Afinidade eletrônica')\n",
    "plt.ylabel('Temperatura crítica');"
   ]
  },
  {
   "cell_type": "code",
   "execution_count": null,
   "id": "5bb23c6a",
   "metadata": {},
   "outputs": [],
   "source": []
  }
 ],
 "metadata": {
  "kernelspec": {
   "display_name": "Python 3 (ipykernel)",
   "language": "python",
   "name": "python3"
  },
  "language_info": {
   "codemirror_mode": {
    "name": "ipython",
    "version": 3
   },
   "file_extension": ".py",
   "mimetype": "text/x-python",
   "name": "python",
   "nbconvert_exporter": "python",
   "pygments_lexer": "ipython3",
   "version": "3.10.12"
  }
 },
 "nbformat": 4,
 "nbformat_minor": 5
}
