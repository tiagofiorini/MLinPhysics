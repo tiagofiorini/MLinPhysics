{
  "nbformat": 4,
  "nbformat_minor": 0,
  "metadata": {
    "colab": {
      "provenance": [],
      "toc_visible": true
    },
    "kernelspec": {
      "name": "python3",
      "display_name": "Python 3"
    },
    "language_info": {
      "name": "python"
    }
  },
  "cells": [
    {
      "cell_type": "markdown",
      "source": [
        "Nesta aula, vamos ver um exemplo de problema de classificação. Vamos utilizar um conjunto de dados sobre qualidade da água. Mais informações sobre esse conjunto de dados podem ser obtidas [aqui](https://www.kaggle.com/datasets/adityakadiwal/water-potability)."
      ],
      "metadata": {
        "id": "F9X4oqLquiI1"
      }
    },
    {
      "cell_type": "markdown",
      "source": [
        "Preparando o ambiente"
      ],
      "metadata": {
        "id": "h3DMd6iTvLH8"
      }
    },
    {
      "cell_type": "code",
      "source": [
        "# Clonando pasta do github\n",
        "if 'google.colab' in str(get_ipython()):\n",
        "    !git clone https://github.com/tiagofiorini/MLinPhysics.git\n",
        "    import os as os\n",
        "    os.chdir('./MLinPhysics')"
      ],
      "metadata": {
        "id": "ISZ4_2oAS923"
      },
      "execution_count": null,
      "outputs": []
    },
    {
      "cell_type": "code",
      "source": [
        "# Carregando bibliotecas básicas\n",
        "import numpy as np\n",
        "import pandas as pd\n",
        "import matplotlib.pyplot as plt\n",
        "import seaborn as sns"
      ],
      "metadata": {
        "id": "4ySXZAfrWIiI"
      },
      "execution_count": 2,
      "outputs": []
    },
    {
      "cell_type": "code",
      "source": [
        "# Leitura do arquivo de dados\n",
        "df = pd.read_csv('aula12_dados_water_potability.csv', header = 0, decimal = '.', sep = \",\")"
      ],
      "metadata": {
        "id": "v3FP5sGXveb9"
      },
      "execution_count": 3,
      "outputs": []
    },
    {
      "cell_type": "markdown",
      "source": [
        "# Análise Exploratória"
      ],
      "metadata": {
        "id": "Gxx2_W_qjKbU"
      }
    },
    {
      "cell_type": "markdown",
      "source": [
        "Observe que todas as variáveis preditoras (features) são numéricas. Há valores faltantes em algumas delas. A variável alvo está codificada em 0 e 1."
      ],
      "metadata": {
        "id": "bExu5bfrbzGO"
      }
    },
    {
      "cell_type": "code",
      "source": [
        "df.info()"
      ],
      "metadata": {
        "id": "8gEqzVuejdMt"
      },
      "execution_count": null,
      "outputs": []
    },
    {
      "cell_type": "code",
      "source": [
        "df.head()"
      ],
      "metadata": {
        "id": "GB1i88Pw5KIK"
      },
      "execution_count": null,
      "outputs": []
    },
    {
      "cell_type": "markdown",
      "source": [
        "Há dados faltantes?"
      ],
      "metadata": {
        "id": "xENkiEpEPnsY"
      }
    },
    {
      "cell_type": "code",
      "source": [
        "# Há dados faltantes?\n",
        "# Counting NaN values in all columns\n",
        "print(df.isna().sum())\n",
        "# Heatmap com a distribuição de valores faltantes\n",
        "sns.heatmap(df.isnull())"
      ],
      "metadata": {
        "id": "6cT5KynIkfAV"
      },
      "execution_count": null,
      "outputs": []
    },
    {
      "cell_type": "code",
      "source": [
        "# Se utilizarmos apenas as linhas com dados completos, quantas linhas vão sobrar?\n",
        "df_clean = df.dropna(axis = 0, how = 'any', inplace = False)\n",
        "print(len(df_clean), 'linhas restantes de um total de', len(df), 'linhas')\n",
        "print(100*len(df_clean)/len(df),'%')"
      ],
      "metadata": {
        "id": "8FIQSTrcZQ6g"
      },
      "execution_count": null,
      "outputs": []
    },
    {
      "cell_type": "markdown",
      "source": [
        "*Exercício: testar quantas linhas completas sobram se exluirmos a coluna Sulfate, que tem a maioria dos dados faltantes.*"
      ],
      "metadata": {
        "id": "3dIqWrPJbPA_"
      }
    },
    {
      "cell_type": "markdown",
      "source": [
        "**Como é a distribuição da variável alvo?**\n",
        "\n",
        "Veja que há predominância da classe não-potável, mas não há um desbalanço importante entre as classes."
      ],
      "metadata": {
        "id": "2nlkNcjFPsqt"
      }
    },
    {
      "cell_type": "code",
      "source": [
        "print('Potability=1: ', len(df[df.Potability==1]), ',' , 100*len(df[df.Potability==1])/len(df), '%')\n",
        "print('Potability=0: ', len(df[df.Potability==0]), ',' , 100*len(df[df.Potability==0])/len(df), '%')"
      ],
      "metadata": {
        "id": "72cRQXiMQajT"
      },
      "execution_count": null,
      "outputs": []
    },
    {
      "cell_type": "markdown",
      "source": [
        "**Variáveis numéricas**\n",
        "\n",
        "Observe que as features possuem vários outliers, que poderiam ser \"tratados\" na etapa de preparação de dados.\n",
        "\n",
        "Observe também que não há grande diferença na distribuição das variáveis considerando amostras potáveis e não potáveis.\n",
        "\n",
        "Observe também que as variáveis numéricas não são correlacionadas."
      ],
      "metadata": {
        "id": "RlFEazXUnKpC"
      }
    },
    {
      "cell_type": "code",
      "source": [
        "# Distribuição de valores em amostras potáveis e não-potáveis\n",
        "# Boxplots para uma feature\n",
        "sns.boxplot(y='ph', x='Potability', data=df, notch=True)"
      ],
      "metadata": {
        "id": "LmNt9792d5tg"
      },
      "execution_count": null,
      "outputs": []
    },
    {
      "cell_type": "code",
      "source": [
        "# Boxplots para todas as features\n",
        "names = df.drop('Potability', axis=1).columns\n",
        "fig, axes = plt.subplots(3,3)\n",
        "for name, ax in zip(names, axes.flatten()):\n",
        "    sns.boxplot(y=name, x='Potability', data=df, notch=True, ax=ax)\n",
        "plt.tight_layout()"
      ],
      "metadata": {
        "id": "zCnmw540EUtD"
      },
      "execution_count": null,
      "outputs": []
    },
    {
      "cell_type": "code",
      "source": [
        "# Avaliando correlações\n",
        "sns.pairplot(df.drop('Potability',axis=1))"
      ],
      "metadata": {
        "id": "1pjPI8RUtrPh"
      },
      "execution_count": null,
      "outputs": []
    },
    {
      "cell_type": "code",
      "source": [
        "sns.heatmap(df.drop('Potability',axis=1).corr(), annot=True, cmap='BrBG')"
      ],
      "metadata": {
        "id": "c6jFHoSrt-7J"
      },
      "execution_count": null,
      "outputs": []
    },
    {
      "cell_type": "markdown",
      "source": [
        "# Preparação dos dados"
      ],
      "metadata": {
        "id": "qIAmvUR6S_KP"
      }
    },
    {
      "cell_type": "markdown",
      "source": [
        "*Exercício: avalie mudanças na estrutura e no desempenho da árvore para diferentes procedimentos de preparação de dados.*\n",
        "*   *Utilizar outra estratégia para lidar com os dados faltantes*\n",
        "*   *Amostragem estratificada, mantendo a proporção de amostras potáveis e não-potáveis nos conjuntos de treino e teste*\n",
        "\n",
        "\n",
        "\n",
        "\n",
        "\n"
      ],
      "metadata": {
        "id": "_1EhiC723RpC"
      }
    },
    {
      "cell_type": "code",
      "source": [
        "# Separação de variáveis preditoras e alvo\n",
        "X = df_clean.drop(['Potability'], axis=1) # features\n",
        "y = df_clean.Potability # target"
      ],
      "metadata": {
        "id": "NoXdCJNpoXAu"
      },
      "execution_count": 10,
      "outputs": []
    },
    {
      "cell_type": "code",
      "source": [
        "# Particionamento em treino e teste\n",
        "from sklearn.model_selection import train_test_split\n",
        "X_train, X_test, y_train, y_test = train_test_split(X, y, test_size=0.2) #, random_state=18)"
      ],
      "metadata": {
        "id": "TByk8Ah0qSih"
      },
      "execution_count": 11,
      "outputs": []
    },
    {
      "cell_type": "markdown",
      "source": [
        "# Árvore de decisão sem poda"
      ],
      "metadata": {
        "id": "sgQohDHpSGbR"
      }
    },
    {
      "cell_type": "markdown",
      "source": [
        "*Exercício: experimente outros critérios de divisão: “gini”, “entropy”, “log_loss”. Avalie se muda a estrutura e o desempenho da árvore.*"
      ],
      "metadata": {
        "id": "FGgmfwyaucxv"
      }
    },
    {
      "cell_type": "code",
      "source": [
        "from sklearn.tree import DecisionTreeClassifier\n",
        "from sklearn import tree\n",
        "\n",
        "# Create classifier\n",
        "clf = DecisionTreeClassifier(criterion='gini',\n",
        "                             splitter='best',\n",
        "                             random_state=6)\n",
        "model = clf.fit(X_train, y_train)\n",
        "\n",
        "# Imprimindo a árvore como texto\n",
        "# print(tree.export_text(clf, feature_names=list(X.columns)))"
      ],
      "metadata": {
        "id": "F4eEGlf0So8I"
      },
      "execution_count": 16,
      "outputs": []
    },
    {
      "cell_type": "code",
      "source": [
        "# Imprimindo a árvore como um fluxograma\n",
        "width = 10\n",
        "height = 7\n",
        "plt.figure(figsize=(width, height))\n",
        "\n",
        "tree.plot_tree(clf, feature_names=list(X.columns), class_names=['N','Y'], filled=True)\n",
        "plt.show()"
      ],
      "metadata": {
        "id": "NTD_1nZftFdu"
      },
      "execution_count": null,
      "outputs": []
    },
    {
      "cell_type": "markdown",
      "source": [
        "Desempenho do modelo. Observe os valores de diferentes métricas: acurácia, precisão, recall, F1 score."
      ],
      "metadata": {
        "id": "ODJoyGui7Wzp"
      }
    },
    {
      "cell_type": "code",
      "source": [
        "# Matriz de confusão para o conjunto de teste\n",
        "# Output: array\n",
        "from sklearn.metrics import confusion_matrix, classification_report\n",
        "\n",
        "y_pred = clf.predict(X_test)\n",
        "cm = confusion_matrix(y_test, y_pred)\n",
        "print('Matriz de confusão:')\n",
        "print(cm)\n",
        "print('Relatório:')\n",
        "print(classification_report(y_test, y_pred, target_names=['No','Yes']))"
      ],
      "metadata": {
        "id": "c2eldzrAzTkY"
      },
      "execution_count": null,
      "outputs": []
    },
    {
      "cell_type": "code",
      "source": [
        "# Matriz de confusão para o conjunto de validação\n",
        "# Output: heatmap\n",
        "from sklearn.metrics import ConfusionMatrixDisplay\n",
        "y_pred = clf.predict(X_test)\n",
        "ConfusionMatrixDisplay.from_predictions(y_test, y_pred,\n",
        "                                        display_labels=['Não potável','Potável'],\n",
        "                                        cmap=plt.cm.Blues)"
      ],
      "metadata": {
        "id": "ABe74e8f0Wpm"
      },
      "execution_count": null,
      "outputs": []
    },
    {
      "cell_type": "markdown",
      "source": [
        "# Árvore de decisão com restrições"
      ],
      "metadata": {
        "id": "nBSNQoL_9YMI"
      }
    },
    {
      "cell_type": "markdown",
      "source": [
        "Veja [aqui](https://scikit-learn.org/stable/modules/generated/sklearn.tree.DecisionTreeClassifier.html) como configurar os hiperparâmetros."
      ],
      "metadata": {
        "id": "YZtqteYryUoq"
      }
    },
    {
      "cell_type": "markdown",
      "source": [
        "*Exercício: variar os seguintes hiperparâmetros, avaliando mudanças na estrutura e no desempenho da árvore*\n",
        "\n",
        "*   *max_depth: maximum depth of the tree*\n",
        "*   *max_features: number of features to consider for the best split*\n",
        "*   *min_samples_split: minimum number of samples required to split an internal node*\n",
        "*   *min_samples_leaf: minimum number of samples in a leaf node*\n",
        "\n",
        "\n",
        "\n",
        "\n",
        "\n"
      ],
      "metadata": {
        "id": "Vw-qlr8T9mL5"
      }
    },
    {
      "cell_type": "code",
      "source": [
        "# Create classifier\n",
        "clf = DecisionTreeClassifier(criterion='gini',\n",
        "                             splitter='best',\n",
        "                             max_depth=None, # default\n",
        "                             max_features=None,\n",
        "                             min_samples_split=2,\n",
        "                             min_samples_leaf=1)\n",
        "model = clf.fit(X_train, y_train)\n",
        "\n",
        "# Imprimindo a árvore como texto\n",
        "print(tree.export_text(clf, feature_names=list(X.columns)))"
      ],
      "metadata": {
        "id": "ZhOnVEMS9kvF"
      },
      "execution_count": null,
      "outputs": []
    },
    {
      "cell_type": "code",
      "source": [
        "# Imprimindo a árvore como um fluxograma\n",
        "width = 10\n",
        "height = 7\n",
        "plt.figure(figsize=(width, height))\n",
        "\n",
        "tree.plot_tree(clf, feature_names=list(X.columns), class_names=['N','Y'], filled=True, impurity=False)\n",
        "plt.show()"
      ],
      "metadata": {
        "id": "MpgjthUtjMPd"
      },
      "execution_count": null,
      "outputs": []
    },
    {
      "cell_type": "code",
      "source": [
        "# Desempenho no conjunto de teste\n",
        "from sklearn.metrics import classification_report, ConfusionMatrixDisplay\n",
        "\n",
        "y_pred = clf.predict(X_test)\n",
        "\n",
        "print(classification_report(y_test, y_pred, target_names=['Não potável','Potável']))\n",
        "ConfusionMatrixDisplay.from_predictions(y_test, y_pred,\n",
        "                                        display_labels=['Não potável','Potável'],\n",
        "                                        cmap=plt.cm.Blues)"
      ],
      "metadata": {
        "id": "wmByM2tKlN5l"
      },
      "execution_count": null,
      "outputs": []
    },
    {
      "cell_type": "markdown",
      "source": [
        "# Árvore de decisão: otimização de hiperparâmetros"
      ],
      "metadata": {
        "id": "KSRu496GAGr9"
      }
    },
    {
      "cell_type": "code",
      "source": [
        "# Otimização usando GridSearch\n",
        "from sklearn.model_selection import GridSearchCV\n",
        "\n",
        "clf = DecisionTreeClassifier(criterion='gini', splitter='best')\n",
        "\n",
        "params = [{'max_depth': [5, 8, 11],\n",
        "         'max_features': [3, 6, 9],\n",
        "         'min_samples_split': [0.05, 0.1, 0.2], # 0.05*n_samples\n",
        "         'min_samples_leaf': [0.025, 0.05, 0.1]}]\n",
        "\n",
        "gs_tree = GridSearchCV(estimator = clf,\n",
        "                      param_grid = params,\n",
        "                      scoring = 'accuracy') # 'recall', 'precision', 'f1', 'accuracy'\n",
        "gs_tree.fit(X_train, y_train)\n",
        "\n",
        "# Imprimindo os resultados.\n",
        "# pd.DataFrame(gs_tree.cv_results_)\n",
        "print('Melhores hiperparâmetros:')\n",
        "print(gs_tree.best_params_)\n",
        "print('Melhor score:')\n",
        "print(gs_tree.best_score_)"
      ],
      "metadata": {
        "id": "KGAnVLYHAVa7"
      },
      "execution_count": null,
      "outputs": []
    },
    {
      "cell_type": "markdown",
      "source": [
        "*Escreva os valores dos melhores hiperparâmetros no código abaixo.*"
      ],
      "metadata": {
        "id": "yzl6iwIB6U8C"
      }
    },
    {
      "cell_type": "code",
      "source": [
        "# Treinando o modelo com os hiperparâmetros otimizados\n",
        "clf = DecisionTreeClassifier(criterion='gini',\n",
        "                             splitter='best',\n",
        "                             max_depth=None,\n",
        "                             max_features=None,\n",
        "                             min_samples_split=2,\n",
        "                             min_samples_leaf=1)\n",
        "model = clf.fit(X_train, y_train)\n",
        "\n",
        "# Imprimindo a árvore como texto\n",
        "# print(tree.export_text(clf, feature_names=list(X.columns)))\n",
        "# Imprimindo a árvore como um fluxograma\n",
        "width = 20\n",
        "height = 14\n",
        "plt.figure(figsize=(width, height))\n",
        "tree.plot_tree(clf, feature_names=list(X.columns), class_names=['N','Y'], filled=True, impurity=False)\n",
        "plt.show()"
      ],
      "metadata": {
        "id": "tAw5sVHff-JA"
      },
      "execution_count": null,
      "outputs": []
    },
    {
      "cell_type": "code",
      "source": [
        "# Desempenho no conjunto de teste\n",
        "from sklearn.metrics import classification_report, ConfusionMatrixDisplay\n",
        "\n",
        "y_pred = clf.predict(X_test)\n",
        "\n",
        "print(classification_report(y_test, y_pred, target_names=['Não potável','Potável']))\n",
        "ConfusionMatrixDisplay.from_predictions(y_test, y_pred,\n",
        "                                        display_labels=['Não potável','Potável'],\n",
        "                                        cmap=plt.cm.Blues)"
      ],
      "metadata": {
        "id": "c2GulhGPGKb8"
      },
      "execution_count": null,
      "outputs": []
    },
    {
      "cell_type": "markdown",
      "source": [
        "# Random Forest"
      ],
      "metadata": {
        "id": "-9PA3LRnIQAK"
      }
    },
    {
      "cell_type": "markdown",
      "source": [
        "Treinando o classificador Randon Forest com valores padrão para os hiperparâmetros. Veja [aqui](https://scikit-learn.org/stable/modules/generated/sklearn.ensemble.RandomForestClassifier.html) o significado dos hiperparâmetros."
      ],
      "metadata": {
        "id": "IGr0SBcG26tu"
      }
    },
    {
      "cell_type": "code",
      "source": [
        "from sklearn.ensemble import RandomForestClassifier\n",
        "clf_rf = RandomForestClassifier(n_estimators=100, criterion='gini', bootstrap=True,\n",
        "                             max_depth=None, # default\n",
        "                             min_samples_split=2,\n",
        "                             min_samples_leaf=1,\n",
        "                             min_weight_fraction_leaf=0.0,\n",
        "                             max_features='sqrt',\n",
        "                             max_leaf_nodes=None,\n",
        "                             min_impurity_decrease=0.0)\n",
        "clf_rf.fit(X_train, y_train)"
      ],
      "metadata": {
        "id": "TwKewvhsMBXQ"
      },
      "execution_count": null,
      "outputs": []
    },
    {
      "cell_type": "code",
      "source": [
        "# Desempenho no conjunto de teste\n",
        "from sklearn.metrics import classification_report, ConfusionMatrixDisplay\n",
        "\n",
        "y_pred = clf_rf.predict(X_test)\n",
        "\n",
        "print(classification_report(y_test, y_pred, target_names=['Não potável','Potável']))\n",
        "ConfusionMatrixDisplay.from_predictions(y_test, y_pred,\n",
        "                                        display_labels=['Não potável','Potável'],\n",
        "                                        cmap=plt.cm.Blues)"
      ],
      "metadata": {
        "id": "Oj-46SaHQxT4"
      },
      "execution_count": null,
      "outputs": []
    },
    {
      "cell_type": "markdown",
      "source": [
        "*Exercício: otimizar uma seleção de hiperparâmetros utilizando o método GridSearch. Treinar o classificador Random Forest com os hiperparâmetros otimizados. Verificar o desempenho do modelo.*"
      ],
      "metadata": {
        "id": "B6xz7Y5QROtZ"
      }
    }
  ]
}