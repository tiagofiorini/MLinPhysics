{
 "cells": [
  {
   "cell_type": "markdown",
   "id": "08ed4957",
   "metadata": {},
   "source": [
    "# Aula de introdução ao problema de clusterização\n",
    "Nesta aula, vamos examinar o problema de clusterização.\n",
    "Vamos analisar o problema de ponto de vista qualitativo.\n",
    "Este exemplo é meramente ilustrativo!"
   ]
  },
  {
   "cell_type": "markdown",
   "id": "be669c27",
   "metadata": {},
   "source": [
    "## Importando bibliotecas"
   ]
  },
  {
   "cell_type": "code",
   "execution_count": null,
   "id": "05f63ec5",
   "metadata": {},
   "outputs": [],
   "source": [
    "import pandas as pd\n",
    "import numpy as np\n",
    "import matplotlib.pyplot as plt\n",
    "from sklearn.preprocessing import OneHotEncoder\n",
    "%matplotlib inline"
   ]
  },
  {
   "cell_type": "markdown",
   "id": "b6b902f3",
   "metadata": {},
   "source": [
    "## Preparando ambiente"
   ]
  },
  {
   "cell_type": "code",
   "execution_count": null,
   "id": "36f7dc21",
   "metadata": {},
   "outputs": [],
   "source": [
    "## Preparando o ambiente\n",
    "if 'google.colab' in str(get_ipython()):\n",
    "    !git clone https://github.com/tiagofiorini/MLinPhysics.git\n",
    "    import os as os\n",
    "    os.chdir('./MLinPhysics')"
   ]
  },
  {
   "cell_type": "markdown",
   "id": "b32f3dba",
   "metadata": {},
   "source": [
    "## Carregando base de dados\n",
    "Usando a função de leitura de arquivos Excel da biblioteca Pandas"
   ]
  },
  {
   "cell_type": "code",
   "execution_count": null,
   "id": "547e5ae5",
   "metadata": {},
   "outputs": [],
   "source": [
    "dados = pd.read_excel('Clustering1.xlsx', index_col=None)"
   ]
  },
  {
   "cell_type": "markdown",
   "id": "d10ccb99",
   "metadata": {},
   "source": [
    "Para ter uma boa visualização, basta digitar o nome do dataframe"
   ]
  },
  {
   "cell_type": "code",
   "execution_count": null,
   "id": "37e8f31c",
   "metadata": {},
   "outputs": [],
   "source": [
    "dados"
   ]
  },
  {
   "cell_type": "markdown",
   "id": "daa85a04",
   "metadata": {},
   "source": [
    "## Preparando a base de dados"
   ]
  },
  {
   "cell_type": "code",
   "execution_count": null,
   "id": "20c8362f",
   "metadata": {},
   "outputs": [],
   "source": [
    "dados_tratados = dados\n",
    "dados_tratados['Instrumento de medida'] = dados_tratados['Instrumento de medida'].fillna(value='Trena')\n",
    "dados_tratados[\"Ângulo de abertura\"] = dados_tratados[\"Ângulo de abertura\"].fillna(dados_tratados[\"Ângulo de abertura\"].median())\n",
    "dados_tratados['Comprimento do fio'] = dados_tratados['Comprimento do fio'].fillna(dados_tratados['Comprimento do fio'].median())\n",
    "encoder = OneHotEncoder(categories=[['Régua','Trena','Paquímetro']])\n",
    "encoder.fit_transform(dados_tratados['Instrumento de medida'].values.reshape(-1,1))\n",
    "buffer = encoder.transform(dados_tratados['Instrumento de medida'].values.reshape(-1,1)).toarray()\n",
    "dados_provisorio = pd.DataFrame(data=buffer, columns=['Régua','Trena','Paquímetro'])\n",
    "dados_tratados = dados_tratados.join(dados_provisorio)\n",
    "dados_tratados = dados_tratados.drop(columns=['Instrumento de medida'])\n",
    "dados_tratados"
   ]
  },
  {
   "cell_type": "markdown",
   "id": "acc2e6f9",
   "metadata": {},
   "source": [
    "## Visualizando os dados\n",
    "Exercite a visualização dos dados para melhor entender se há ou não uma separação em grupos de medidas."
   ]
  },
  {
   "cell_type": "code",
   "execution_count": null,
   "id": "f75d7779",
   "metadata": {},
   "outputs": [],
   "source": [
    "plt.scatter(dados_tratados['Comprimento do fio'],dados_tratados['Período de oscilação'],c=dados_tratados['Ângulo de abertura'])\n",
    "plt.xlabel('Comprimento do fio')\n",
    "plt.ylabel('Período de oscilação');"
   ]
  },
  {
   "cell_type": "code",
   "execution_count": null,
   "id": "7ce5d71f",
   "metadata": {},
   "outputs": [],
   "source": [
    "plt.scatter(dados_tratados['Ângulo de abertura'],dados_tratados['Período de oscilação'])\n",
    "plt.xlabel('Comprimento do fio')\n",
    "plt.ylabel('Ângulo de abertura');"
   ]
  },
  {
   "cell_type": "code",
   "execution_count": null,
   "id": "e12d471f",
   "metadata": {},
   "outputs": [],
   "source": [
    "plt.scatter(dados_tratados['Comprimento do fio'],dados_tratados['Ângulo de abertura'])\n",
    "plt.xlabel('Comprimento do fio')\n",
    "plt.ylabel('Ângulo de abertura');"
   ]
  },
  {
   "cell_type": "markdown",
   "id": "ec451e45",
   "metadata": {},
   "source": [
    "## Desafio: Tente uma visualização 3D dos dados"
   ]
  },
  {
   "cell_type": "code",
   "execution_count": null,
   "id": "e03277bf",
   "metadata": {},
   "outputs": [],
   "source": [
    "import ipywidgets as widgets\n",
    "from mpl_toolkits import mplot3d\n",
    "@widgets.interact(x=(0, 90))\n",
    "def f(x=45):\n",
    "    ax = plt.axes(projection =\"3d\")\n",
    "    ax.scatter3D(dados_tratados['Comprimento do fio'],dados_tratados['Período de oscilação'],dados_tratados['Ângulo de abertura'])\n",
    "    ax.set_xlabel('Comprimento do fio')\n",
    "    ax.set_ylabel('Período de oscilação')\n",
    "    ax.set_zlabel('Ângulo de abertura');\n",
    "    ax.view_init(elev=30, azim=x)\n",
    "    plt.show()\n",
    "    plt.clf() # Limpa os eixos\n",
    "    plt.cla() # Limpa a figura\n",
    "    plt.close() # Fecha o gráfico"
   ]
  },
  {
   "cell_type": "code",
   "execution_count": null,
   "id": "ac7ffa64",
   "metadata": {},
   "outputs": [],
   "source": []
  }
 ],
 "metadata": {
  "kernelspec": {
   "display_name": "Python 3 (ipykernel)",
   "language": "python",
   "name": "python3"
  },
  "language_info": {
   "codemirror_mode": {
    "name": "ipython",
    "version": 3
   },
   "file_extension": ".py",
   "mimetype": "text/x-python",
   "name": "python",
   "nbconvert_exporter": "python",
   "pygments_lexer": "ipython3",
   "version": "3.10.12"
  }
 },
 "nbformat": 4,
 "nbformat_minor": 5
}
