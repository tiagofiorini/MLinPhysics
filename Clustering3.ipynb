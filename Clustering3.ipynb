{
 "cells": [
  {
   "cell_type": "markdown",
   "id": "c17ceb20",
   "metadata": {},
   "source": [
    "# Aula de algoritmos de clusterização\n",
    "\n",
    "Nesta aula vamos explorar as diferenças entre os algoritmos de clusterização: hierarchical clustering, KMeans, DBSCAN and Gaussian mixtures.\n",
    "\n",
    "Neste exemplo, vamos usar a base de dados que sumariza 82 características de 21.263 materiais supercondutores diferentes. Esses dados foram compilados de artigos científicos pelo Superconducting Material Database maintained by Japan’s National Institute for Materials Science (NIMS), e são disponíveis Materials Data Repository (MDR).\n",
    "\n",
    "A tabela que utilizaremos é uma versão compilada e disponível em: https://www.kaggle.com/datasets/munumbutt/superconductor-dataset?select=train.csv"
   ]
  },
  {
   "cell_type": "markdown",
   "id": "8fae3c93",
   "metadata": {},
   "source": [
    "## Importando bibliotecas e dados"
   ]
  },
  {
   "cell_type": "code",
   "execution_count": null,
   "id": "20d2efdf",
   "metadata": {},
   "outputs": [],
   "source": [
    "import pandas as pd\n",
    "import numpy as np\n",
    "import matplotlib.pyplot as plt\n",
    "from matplotlib.colors import LogNorm\n",
    "import ipywidgets as widgets"
   ]
  },
  {
   "cell_type": "markdown",
   "id": "a578ca6b",
   "metadata": {},
   "source": [
    "## Preparando o ambiente"
   ]
  },
  {
   "cell_type": "code",
   "execution_count": null,
   "id": "3dd568a0",
   "metadata": {},
   "outputs": [],
   "source": [
    "## Preparando o ambiente\n",
    "if 'google.colab' in str(get_ipython()):\n",
    "    !git clone https://github.com/tiagofiorini/MLinPhysics.git\n",
    "    import os as os\n",
    "    os.chdir('./MLinPhysics')"
   ]
  },
  {
   "cell_type": "code",
   "execution_count": null,
   "id": "354c6be6",
   "metadata": {},
   "outputs": [],
   "source": [
    "dados = pd.read_csv('Superconductivity.csv')\n",
    "X = np.array([dados['mean_ElectronAffinity'], dados['critical_temp']]).T"
   ]
  },
  {
   "cell_type": "markdown",
   "id": "17b2a895",
   "metadata": {},
   "source": [
    "## Verificando a existência de agrupamentos!\n",
    "\n",
    "Vamos verificar possíveis agrupamentos entre duas variáveis: a afinidade eletrônica e a temperatura crítica de supercondutividade.\n",
    "\n",
    "Faremos isso por meio de um histograma bidimensional!"
   ]
  },
  {
   "cell_type": "code",
   "execution_count": null,
   "id": "7748d8ec",
   "metadata": {},
   "outputs": [],
   "source": [
    "plt.hist2d(dados['mean_ElectronAffinity'], dados['critical_temp'],bins=50);\n",
    "plt.xlabel('Afinidade eletrônica')\n",
    "plt.ylabel('Temperatura crítica');\n",
    "plt.xlim(xmin=0.0, xmax=200)\n",
    "plt.ylim(ymin=0.0, ymax=150)\n",
    "plt.colorbar()"
   ]
  },
  {
   "cell_type": "markdown",
   "id": "94c424f9",
   "metadata": {},
   "source": [
    "## Hierarchical clustering"
   ]
  },
  {
   "cell_type": "code",
   "execution_count": null,
   "id": "0bb761bd",
   "metadata": {},
   "outputs": [],
   "source": [
    "import scipy.cluster.hierarchy as shc\n",
    "import seaborn as sns\n",
    "\n",
    "plt.figure(figsize=(10, 7))\n",
    "plt.title(\"Dendrograma\")\n",
    "clusters = shc.linkage(X, method='ward', metric=\"euclidean\")\n",
    "shc.dendrogram(Z=clusters)\n",
    "plt.show()"
   ]
  },
  {
   "cell_type": "code",
   "execution_count": null,
   "id": "8ef605e5",
   "metadata": {},
   "outputs": [],
   "source": [
    "from sklearn.cluster import AgglomerativeClustering \n",
    "\n",
    "#X = np.array([dados['mean_ElectronAffinity'], dados['critical_temp']]).T\n",
    "aggclust = AgglomerativeClustering(n_clusters=3, linkage='ward').fit(X)\n",
    "categorias = aggclust.labels_\n",
    "plt.scatter(dados['mean_ElectronAffinity'], dados['critical_temp'], c=categorias)\n",
    "plt.xlabel('Afinidade eletrônica')\n",
    "plt.ylabel('Temperatura crítica');"
   ]
  },
  {
   "cell_type": "markdown",
   "id": "75603075",
   "metadata": {},
   "source": [
    "## KMeans"
   ]
  },
  {
   "cell_type": "code",
   "execution_count": null,
   "id": "12bc0706",
   "metadata": {},
   "outputs": [],
   "source": [
    "from sklearn.cluster import KMeans \n",
    "\n",
    "@widgets.interact(n_clusters=(2, 10))\n",
    "def kmeans(n_clusters = 2):\n",
    "    #X = np.array([dados['mean_ElectronAffinity'], dados['critical_temp']]).T\n",
    "    kmeans = KMeans(n_clusters=n_clusters, n_init='auto').fit(X)\n",
    "    categorias = kmeans.labels_\n",
    "    plt.scatter(dados['mean_ElectronAffinity'], dados['critical_temp'], c=categorias)\n",
    "    plt.xlabel('Afinidade eletrônica')\n",
    "    plt.ylabel('Temperatura crítica');\n",
    "    plt.show()\n",
    "    plt.clf() # Limpa os eixos\n",
    "    plt.cla() # Limpa a figura\n",
    "    plt.close() # Fecha o gráfico"
   ]
  },
  {
   "cell_type": "markdown",
   "id": "b79a5bea",
   "metadata": {},
   "source": [
    "## DBSCAN"
   ]
  },
  {
   "cell_type": "code",
   "execution_count": null,
   "id": "09047f04",
   "metadata": {},
   "outputs": [],
   "source": [
    "from sklearn.cluster import DBSCAN \n",
    "\n",
    "@widgets.interact(epsilon=(1, 10, 0.1), minN=(1,400))\n",
    "\n",
    "def dbscan(epsilon = 1.5, minN = 10):\n",
    "    #X = np.array([dados['mean_ElectronAffinity'], dados['critical_temp']]).T\n",
    "    dbscan = DBSCAN(eps=epsilon, min_samples=minN).fit(X)\n",
    "    categorias = dbscan.labels_\n",
    "    plt.scatter(dados['mean_ElectronAffinity'], dados['critical_temp'], c=categorias)\n",
    "    plt.xlabel('Afinidade eletrônica')\n",
    "    plt.ylabel('Temperatura crítica');\n",
    "    plt.text(200,175,str((categorias == -1).sum())+' Outliers')\n",
    "    plt.text(200,165,str(categorias.max())+' Agrupamentos')\n",
    "    plt.show()\n",
    "    plt.clf() # Limpa os eixos\n",
    "    plt.cla() # Limpa a figura\n",
    "    plt.close() # Fecha o gráfico"
   ]
  },
  {
   "cell_type": "markdown",
   "id": "c0fb4e2f",
   "metadata": {},
   "source": [
    "## Gaussian Mixture"
   ]
  },
  {
   "cell_type": "code",
   "execution_count": null,
   "id": "06a8f5d1",
   "metadata": {},
   "outputs": [],
   "source": [
    "from sklearn.mixture import GaussianMixture\n",
    "\n",
    "@widgets.interact(n_clusters=(2, 10))\n",
    "def gmix(n_clusters = 2):\n",
    "    #X = np.array([dados['mean_ElectronAffinity'], dados['critical_temp']]).T\n",
    "    gauss = GaussianMixture(n_components=n_clusters, random_state=0).fit(X)\n",
    "    categorias = gauss.predict(X)\n",
    "    plt.scatter(dados['mean_ElectronAffinity'], dados['critical_temp'], c=categorias)\n",
    "    plt.xlabel('Afinidade eletrônica')\n",
    "    plt.ylabel('Temperatura crítica');\n",
    "    plt.text(200,175,str((categorias == -1).sum())+' Outliers')\n",
    "    plt.text(200,165,str(categorias.max())+' Agrupamentos')\n",
    "    plt.show()\n",
    "    plt.clf() # Limpa os eixos\n",
    "    plt.cla() # Limpa a figura\n",
    "    plt.close() # Fecha o gráfico"
   ]
  },
  {
   "cell_type": "code",
   "execution_count": null,
   "id": "5bb23c6a",
   "metadata": {},
   "outputs": [],
   "source": []
  }
 ],
 "metadata": {
  "kernelspec": {
   "display_name": "Python 3 (ipykernel)",
   "language": "python",
   "name": "python3"
  },
  "language_info": {
   "codemirror_mode": {
    "name": "ipython",
    "version": 3
   },
   "file_extension": ".py",
   "mimetype": "text/x-python",
   "name": "python",
   "nbconvert_exporter": "python",
   "pygments_lexer": "ipython3",
   "version": "3.10.12"
  }
 },
 "nbformat": 4,
 "nbformat_minor": 5
}
