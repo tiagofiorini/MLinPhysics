{
  "nbformat": 4,
  "nbformat_minor": 0,
  "metadata": {
    "colab": {
      "provenance": [],
      "toc_visible": true
    },
    "kernelspec": {
      "name": "python3",
      "display_name": "Python 3"
    },
    "language_info": {
      "name": "python"
    }
  },
  "cells": [
    {
      "cell_type": "markdown",
      "source": [
        "Preparando o ambiente"
      ],
      "metadata": {
        "id": "kDCrhUVeVCmu"
      }
    },
    {
      "cell_type": "code",
      "source": [
        "# Clonando pasta do github\n",
        "if 'google.colab' in str(get_ipython()):\n",
        "    !git clone https://github.com/tiagofiorini/MLinPhysics.git\n",
        "    import os as os\n",
        "    os.chdir('./MLinPhysics')"
      ],
      "metadata": {
        "id": "ISZ4_2oAS923"
      },
      "execution_count": null,
      "outputs": []
    },
    {
      "cell_type": "code",
      "execution_count": 2,
      "metadata": {
        "id": "wDwrExdUxphp"
      },
      "outputs": [],
      "source": [
        "import numpy as np\n",
        "import pandas as pd\n",
        "import matplotlib.pyplot as plt\n",
        "import seaborn as sns\n",
        "import statsmodels.api as sm"
      ]
    },
    {
      "cell_type": "code",
      "source": [
        "# Leitura do arquivo de dados\n",
        "df = pd.read_excel('aula19_dados_serie_temporal.xlsx', sheet_name='dados')\n",
        "df['datetime'] = pd.to_datetime(df['datetime'])\n",
        "df.set_index('datetime', inplace=True) # dataframe indexado pela data\n",
        "df.head()"
      ],
      "metadata": {
        "id": "LLs_HcTiwvnr"
      },
      "execution_count": null,
      "outputs": []
    },
    {
      "cell_type": "markdown",
      "source": [
        "# Arima Temperatura RMSP"
      ],
      "metadata": {
        "id": "GSlVRfDBhQr2"
      }
    },
    {
      "cell_type": "markdown",
      "source": [
        "Neste exercício vamos trabalhar apenas com a série temporal de temperatura."
      ],
      "metadata": {
        "id": "gN6VteFhjwI3"
      }
    },
    {
      "cell_type": "code",
      "source": [
        "temp = df.temp\n",
        "temp.plot()"
      ],
      "metadata": {
        "id": "ED7ZLvXqjzjN"
      },
      "execution_count": null,
      "outputs": []
    },
    {
      "cell_type": "markdown",
      "source": [
        "Decomposição da série temporal em: tendência, sazonalidade e componente restante."
      ],
      "metadata": {
        "id": "itqKOt6GjCA3"
      }
    },
    {
      "cell_type": "code",
      "source": [
        "from statsmodels.tsa.seasonal import seasonal_decompose\n",
        "tempdec = seasonal_decompose(temp, model='additive')\n",
        "tempdec.plot()\n",
        "plt.show()"
      ],
      "metadata": {
        "id": "vV2uXl6sjP8I"
      },
      "execution_count": null,
      "outputs": []
    },
    {
      "cell_type": "markdown",
      "source": [
        "Obtendo as funções de autocorrelação (ACF) e autocorrelação parcial (PACF)"
      ],
      "metadata": {
        "id": "TyUTuFWhlQk0"
      }
    },
    {
      "cell_type": "code",
      "source": [
        "sm.graphics.tsa.plot_acf(temp, lags=40)\n",
        "plt.show()"
      ],
      "metadata": {
        "id": "E15CNwOKlWx_"
      },
      "execution_count": null,
      "outputs": []
    },
    {
      "cell_type": "code",
      "source": [
        "sm.graphics.tsa.plot_pacf(temp, lags=40)\n",
        "plt.show()"
      ],
      "metadata": {
        "id": "3az_7Sq5l0nM"
      },
      "execution_count": null,
      "outputs": []
    },
    {
      "cell_type": "markdown",
      "source": [
        "Vemos que a série temporal possui uma forte sazonalidade. Vamos fazer uma primeira tentativa de ajustar um modelo SARIMA aos dados de temperatura."
      ],
      "metadata": {
        "id": "A6AEF9KEmJKt"
      }
    },
    {
      "cell_type": "code",
      "source": [
        "from statsmodels.tsa.arima.model import ARIMA\n",
        "# fit model\n",
        "model1 = ARIMA(temp, order=(1,2,0))\n",
        "model1_fit = model1.fit()\n",
        "# summary of fit model\n",
        "print(model1_fit.summary())\n",
        "# line plot of residuals\n",
        "residuals1 = pd.DataFrame(model1_fit.resid)\n",
        "residuals1.plot(title='Gráfico dos resíduos')\n",
        "plt.show()\n",
        "# density plot of residuals\n",
        "residuals1.plot(kind='kde', title='Distribuição dos resíduos')\n",
        "plt.show()\n",
        "# summary stats of residuals\n",
        "print(residuals1.describe())\n",
        "# Aplicando o modelo aos dados\n",
        "pred1 = model1.fit().predict()\n",
        "plt.plot(temp.index, temp, label='Observado')\n",
        "plt.plot(pred1.index, pred1, label='Predito')\n",
        "plt.ylabel('Temperatura (oC)')\n",
        "plt.title('Modelo 1')\n",
        "plt.legend()\n",
        "plt.show()"
      ],
      "metadata": {
        "id": "wcq4p2CWmIXE"
      },
      "execution_count": null,
      "outputs": []
    },
    {
      "cell_type": "markdown",
      "source": [
        "Usando auto ARIMA para procurar o melhor modelo (determinação da ordem do modelo)"
      ],
      "metadata": {
        "id": "I7V-zsXLoxwm"
      }
    },
    {
      "cell_type": "code",
      "source": [
        "# É preciso instalar a biblioteca autoarima (pmdarima) no colab:\n",
        "!pip install statsmodels\n",
        "!pip install pmdarima"
      ],
      "metadata": {
        "id": "1CmNDHi3rj2l"
      },
      "execution_count": null,
      "outputs": []
    },
    {
      "cell_type": "code",
      "source": [
        "import statsmodels.api as sm\n",
        "import pmdarima as pmd\n",
        "autoarima=pmd.auto_arima(temp,start_p=1,start_q=0,m=12,seasonal=True,trace=True)\n",
        "# m: number of periods in each season (ex: 12 for monthly data)\n",
        "# seasonal: Whether to fit a seasonal ARIMA. Default is True.\n",
        "# trace: Whether to print status on the fits.\n"
      ],
      "metadata": {
        "id": "fUDDtRYIr50V"
      },
      "execution_count": null,
      "outputs": []
    },
    {
      "cell_type": "code",
      "source": [
        "# fit model\n",
        "model2=ARIMA(temp,order=(1,0,0),seasonal_order=(1,0,1,12))\n",
        "model2_fit = model2.fit()\n",
        "# summary of fit model\n",
        "print(model2_fit.summary())\n",
        "# line plot of residuals\n",
        "residuals2 = pd.DataFrame(model2_fit.resid)\n",
        "residuals2.plot(title='Gráfico dos resíduos')\n",
        "plt.show()\n",
        "# density plot of residuals\n",
        "residuals2.plot(kind='kde', title='Distribuição dos resíduos')\n",
        "plt.show()\n",
        "# summary stats of residuals\n",
        "print(residuals2.describe())\n",
        "# Aplicando o modelo aos dados\n",
        "pred2 = model2.fit().predict()\n",
        "plt.plot(temp.index, temp, label='Observado')\n",
        "plt.plot(pred2.index, pred2, label='Predito')\n",
        "plt.ylabel('Temperatura (oC)')\n",
        "plt.title('Modelo 2')\n",
        "plt.legend()\n",
        "plt.show()"
      ],
      "metadata": {
        "id": "Rk3YSeOGtJV3"
      },
      "execution_count": null,
      "outputs": []
    },
    {
      "cell_type": "markdown",
      "source": [
        "Exercício: Ler a aba \"exercicio\" da mesma planilha, que uma série temporal de consumo de energia elétrica.\n",
        "\n",
        "*   A série temporal possui tendência e sazonalidade?\n",
        "*   Avalie as funções ACF e PACF e verifique se a série mostra evidências de processos de autocorrelação (AR) e de média móvel (MA).\n",
        "*   Aplique um modelo da família ARIMA, escolhendo a ordem mais adequada\n",
        "\n",
        "\n",
        "\n",
        "\n"
      ],
      "metadata": {
        "id": "5QZTHNIE20xI"
      }
    }
  ]
}