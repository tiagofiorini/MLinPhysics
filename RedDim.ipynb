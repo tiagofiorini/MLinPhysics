{
 "cells": [
  {
   "cell_type": "markdown",
   "id": "c17ceb20",
   "metadata": {},
   "source": [
    "# Aula de algoritmos de redução de dimensionalidade\n",
    "\n",
    "Nesta aula vamos colocar às mãos no código para ter uma visão prática do uso de algoritmos de aprendizado de máquina para extrair um entendimento mais profundo de uma base de dados. Desta vez, vamos implementar algoritmos de redução de dimensionalidade para processar a base de dados como um todo. Além disso, vamos implementar o conceito aprendido sobre as diferentes etapas no desenvolvimento de uma aplicação com aprendizado de máquina.\n",
    "\n",
    "Neste exemplo, vamos usar a base de dados que sumariza 82 características de 21.263 materiais supercondutores diferentes. Esses dados foram compilados de artigos científicos pelo Superconducting Material Database maintained by Japan’s National Institute for Materials Science (NIMS), e são disponíveis Materials Data Repository (MDR).\n",
    "\n",
    "A tabela que utilizaremos é uma versão compilada e disponível em: https://www.kaggle.com/datasets/munumbutt/superconductor-dataset?select=train.csv"
   ]
  },
  {
   "cell_type": "markdown",
   "id": "8fae3c93",
   "metadata": {},
   "source": [
    "## Importando bibliotecas e dados"
   ]
  },
  {
   "cell_type": "code",
   "execution_count": null,
   "id": "20d2efdf",
   "metadata": {},
   "outputs": [],
   "source": [
    "import pandas as pd\n",
    "import numpy as np\n",
    "import matplotlib.pyplot as plt\n",
    "from matplotlib.colors import LogNorm"
   ]
  },
  {
   "cell_type": "markdown",
   "id": "9c41bbab",
   "metadata": {},
   "source": [
    "## Preparando o ambiente"
   ]
  },
  {
   "cell_type": "code",
   "execution_count": null,
   "id": "6d30d83f",
   "metadata": {},
   "outputs": [],
   "source": [
    "if 'google.colab' in str(get_ipython()):\n",
    "    !git clone https://github.com/tiagofiorini/MLinPhysics.git\n",
    "    import os as os\n",
    "    os.chdir('./MLinPhysics')"
   ]
  },
  {
   "cell_type": "markdown",
   "id": "fcbf477b",
   "metadata": {},
   "source": [
    "## Carregando os dados"
   ]
  },
  {
   "cell_type": "code",
   "execution_count": null,
   "id": "354c6be6",
   "metadata": {},
   "outputs": [],
   "source": [
    "dados = pd.read_csv('Superconductivity.csv')\n",
    "X = dados\n",
    "dados"
   ]
  },
  {
   "cell_type": "markdown",
   "id": "e35d7bfa",
   "metadata": {},
   "source": [
    "O nome atribuído às 82 características dos materiais são:"
   ]
  },
  {
   "cell_type": "code",
   "execution_count": null,
   "id": "d386eed1",
   "metadata": {},
   "outputs": [],
   "source": [
    "dados.columns"
   ]
  },
  {
   "cell_type": "code",
   "execution_count": null,
   "id": "816046d9",
   "metadata": {},
   "outputs": [],
   "source": [
    "import seaborn as sns\n",
    "matriz_corr = dados.corr().round(2)\n",
    "sns.heatmap(matriz_corr, cmap = 'RdBu', vmin=-1, vmax=1);"
   ]
  },
  {
   "cell_type": "markdown",
   "id": "16843436",
   "metadata": {},
   "source": [
    "## Pré processamento"
   ]
  },
  {
   "cell_type": "code",
   "execution_count": null,
   "id": "5bb23c6a",
   "metadata": {},
   "outputs": [],
   "source": [
    "from sklearn.preprocessing import StandardScaler\n",
    "\n",
    "scaler = StandardScaler()\n",
    "X = scaler.fit_transform(X)"
   ]
  },
  {
   "cell_type": "markdown",
   "id": "e3555d67",
   "metadata": {},
   "source": [
    "## Modelo 1: Fatorização"
   ]
  },
  {
   "cell_type": "code",
   "execution_count": null,
   "id": "945d8dd2",
   "metadata": {},
   "outputs": [],
   "source": [
    "from sklearn.decomposition import PCA\n",
    "\n",
    "pca = PCA()\n",
    "pca.fit(X)\n",
    "expl = pca.explained_variance_ratio_\n",
    "svalues = pca.singular_values_\n",
    "x = pca.transform(X)"
   ]
  },
  {
   "cell_type": "code",
   "execution_count": null,
   "id": "5d4ac8d8",
   "metadata": {},
   "outputs": [],
   "source": [
    "plt.hist2d(x[:,0],x[:,1],bins=50,  norm=LogNorm());"
   ]
  },
  {
   "cell_type": "markdown",
   "id": "2c6de184",
   "metadata": {},
   "source": [
    "### Otimização 1: Número de fatores"
   ]
  },
  {
   "cell_type": "code",
   "execution_count": null,
   "id": "d4bb0f50",
   "metadata": {},
   "outputs": [],
   "source": [
    "explainability = pca.explained_variance_ratio_.cumsum()\n",
    "factors = np.arange(1,X.shape[1]+1,1)\n",
    "plt.scatter(factors,explainability)\n",
    "plt.hlines(0.9,0,20,'r')\n",
    "plt.xlabel('Número de componentes')\n",
    "plt.ylabel('Explicabilidade dos dados')\n",
    "\n",
    "p = factors[explainability<0.9].max()+1\n",
    "\n",
    "if p<2:\n",
    "    p=2\n",
    "    \n",
    "print('90%% dos dados são explicados com as ' + str(p) + ' componentes.')\n",
    "\n",
    "pca = PCA(n_components=p)\n",
    "pca.fit(X)\n",
    "x = pca.transform(X)\n",
    "\n",
    "#x = x[:,0:p]\n",
    "#x.shape"
   ]
  },
  {
   "cell_type": "markdown",
   "id": "7ed21f48",
   "metadata": {},
   "source": [
    "## Modelo 2: Clusterização"
   ]
  },
  {
   "cell_type": "code",
   "execution_count": null,
   "id": "6b6340bf",
   "metadata": {},
   "outputs": [],
   "source": [
    "from sklearn.cluster import KMeans\n",
    "\n",
    "kmeans = KMeans(n_clusters=5).fit(x)\n",
    "categorias = kmeans.labels_\n",
    "\n",
    "plt.scatter(x[:,0], x[:,1], c=categorias)\n",
    "plt.xlabel('Componente Principal 1')\n",
    "plt.ylabel('Componente Principal 2');"
   ]
  },
  {
   "cell_type": "markdown",
   "id": "44d9d553",
   "metadata": {},
   "source": [
    "### Otimização 2: Número de clusters"
   ]
  },
  {
   "cell_type": "code",
   "execution_count": null,
   "id": "e479c094",
   "metadata": {},
   "outputs": [],
   "source": [
    "from sklearn.metrics import silhouette_samples, silhouette_score\n",
    "\n",
    "Ns = np.asarray([2, 3, 4, 5, 6, 7, 8, 9])\n",
    "silhueta_scores = np.zeros(len(Ns))\n",
    "pontos_bad = np.zeros(len(Ns))\n",
    "\n",
    "for i,N in enumerate(Ns):\n",
    "    kmeans = KMeans(n_clusters=N).fit(x)\n",
    "    categorias = kmeans.labels_\n",
    "    silhueta_scores[i] = silhouette_score(x, categorias)\n",
    "    sample_silhouette_values = silhouette_samples(x, categorias)\n",
    "    mask = ( sample_silhouette_values < 0 )\n",
    "    pontos_bad[i] = (100 * mask.sum() / len(mask)).round(2)\n",
    "    \n",
    "        \n",
    "plt.plot(Ns,silhueta_scores);\n",
    "plt.xlabel('Clusters')\n",
    "plt.ylabel('Fator de silhueta')\n",
    "\n",
    "plt.figure()\n",
    "plt.plot(Ns,pontos_bad)\n",
    "plt.xlabel('Clusters')\n",
    "plt.ylabel('Pontos mal atribuídos')\n",
    "\n",
    "plt.figure()\n",
    "plt.plot(Ns,silhueta_scores/pontos_bad)\n",
    "plt.xlabel('Clusters')\n",
    "plt.ylabel('Métrica de performance')\n",
    "\n",
    "opt_n_clusters = Ns[(silhueta_scores/pontos_bad).argmax()]"
   ]
  },
  {
   "cell_type": "code",
   "execution_count": null,
   "id": "0650b3ac",
   "metadata": {},
   "outputs": [],
   "source": [
    "kmeans = KMeans(n_clusters=opt_n_clusters).fit(x)\n",
    "#kmeans = KMeans(n_clusters=2).fit(x)\n",
    "categorias = kmeans.labels_\n",
    "\n",
    "plt.figure()\n",
    "plt.scatter(x[:,0], x[:,1], c=categorias)\n",
    "plt.xlabel('Componente Principal 1')\n",
    "plt.ylabel('Componente Principal 2');\n",
    "\n",
    "print(str(opt_n_clusters) + ' é o número de clusters que apresenta o melhor fator de silhueta.')"
   ]
  },
  {
   "cell_type": "markdown",
   "id": "5afd7ac5",
   "metadata": {},
   "source": [
    "## Pós processamento"
   ]
  },
  {
   "cell_type": "code",
   "execution_count": null,
   "id": "83c17fdd",
   "metadata": {},
   "outputs": [],
   "source": [
    "centros = kmeans.cluster_centers_\n",
    "\n",
    "#centros = np.pad(centros, ((0,0),(0,X.shape[1]-p)), mode='constant')\n",
    "\n",
    "centros_back = pca.inverse_transform(centros)\n",
    "centros_back = scaler.inverse_transform(centros_back)\n",
    "\n",
    "ordem = centros_back[:,-1].argsort()\n",
    "centros_back = centros_back[ordem,:]\n",
    "\n",
    "dados_provisorio = pd.DataFrame(data=centros_back, columns=dados.columns)\n",
    "dados_provisorio"
   ]
  },
  {
   "cell_type": "code",
   "execution_count": null,
   "id": "f9306992",
   "metadata": {},
   "outputs": [],
   "source": [
    "import matplotlib.colors as mcolors\n",
    "\n",
    "colors = [(1,0,0,c) for c in np.linspace(0,1,100)]\n",
    "cmapred  = mcolors.LinearSegmentedColormap.from_list('mymap', colors, N=5)\n",
    "colors = [(0,1,0,c) for c in np.linspace(0,1,100)]\n",
    "cmapgreen  = mcolors.LinearSegmentedColormap.from_list('mymap', colors, N=5)\n",
    "colors = [(0,0,1,c) for c in np.linspace(0,1,100)]\n",
    "cmapblue =  mcolors.LinearSegmentedColormap.from_list('mymap', colors, N=5)\n",
    "colors = [(1,0,1,c) for c in np.linspace(0,1,100)]\n",
    "cmappurple =  mcolors.LinearSegmentedColormap.from_list('mymap', colors, N=5)\n",
    "colors = [(0,1,1,c) for c in np.linspace(0,1,100)]\n",
    "cmapcian =  mcolors.LinearSegmentedColormap.from_list('mymap', colors, N=5)\n",
    "colors = [(1,1,0,c) for c in np.linspace(0,1,100)]\n",
    "cmapyel =  mcolors.LinearSegmentedColormap.from_list('mymap', colors, N=5)\n",
    "colors = [(0.5,0.5,0.1,c) for c in np.linspace(0,1,100)]\n",
    "cmapcor1 =  mcolors.LinearSegmentedColormap.from_list('mymap', colors, N=5)\n",
    "colors = [(0.1,0.4,0.5,c) for c in np.linspace(0,1,100)]\n",
    "cmapcor2 =  mcolors.LinearSegmentedColormap.from_list('mymap', colors, N=5)\n",
    "\n",
    "\n",
    "Xpart = np.array([dados['mean_ElectronAffinity'], dados['critical_temp']]).T\n",
    "\n",
    "colormaps = [cmapred, cmapgreen, cmapblue, cmappurple, cmapcian, cmapyel, cmapcor1, cmapcor2]\n",
    "for i in range(categorias.max()+1):\n",
    "    mask = ( categorias == i )\n",
    "    xpart = Xpart[mask,:]\n",
    "    plt.hist2d(xpart[:,0],xpart[:,1],bins=[np.linspace(0,300,50),np.linspace(0,200,50)],cmap=colormaps[i])\n",
    "plt.xlabel('Afinidade eletrônica')\n",
    "plt.ylabel('Temperatura crítica');"
   ]
  },
  {
   "cell_type": "code",
   "execution_count": null,
   "id": "1d521411",
   "metadata": {},
   "outputs": [],
   "source": [
    "u = ['mean_ElectronAffinity', 'gmean_Valence', 'gmean_atomic_mass']\n",
    "\n",
    "for i in range(len(u)):\n",
    "    plt.figure()\n",
    "    plt.plot(dados_provisorio['critical_temp'], dados_provisorio[u[i]],label=u[i])\n",
    "    plt.ylabel(u[i])\n",
    "    plt.xlabel('Temperatura Crítica')\n",
    "    "
   ]
  },
  {
   "cell_type": "code",
   "execution_count": null,
   "id": "9bd4067f",
   "metadata": {},
   "outputs": [],
   "source": []
  },
  {
   "cell_type": "code",
   "execution_count": null,
   "id": "73395ce3",
   "metadata": {},
   "outputs": [],
   "source": []
  }
 ],
 "metadata": {
  "kernelspec": {
   "display_name": "Python 3 (ipykernel)",
   "language": "python",
   "name": "python3"
  },
  "language_info": {
   "codemirror_mode": {
    "name": "ipython",
    "version": 3
   },
   "file_extension": ".py",
   "mimetype": "text/x-python",
   "name": "python",
   "nbconvert_exporter": "python",
   "pygments_lexer": "ipython3",
   "version": "3.10.12"
  }
 },
 "nbformat": 4,
 "nbformat_minor": 5
}
